{
 "cells": [
  {
   "cell_type": "markdown",
   "id": "5f2d9792",
   "metadata": {},
   "source": [
    "# CSIT456 Final Project: Stock Price Variation\n",
    "\n",
    "\n",
    "## Name: Jhony Ortiz,Sai Moturi, Aaron Hayward"
   ]
  },
  {
   "cell_type": "markdown",
   "id": "3fab942f",
   "metadata": {},
   "source": [
    "1. For this project we will use historical stock price data for the Apple Stock\n",
    "2. The dataset contains dates - starting from May 5, 2021 and 20 years\n",
    "3. Will use the past 100 days to try to predict if the price at closing was up or down\n"
   ]
  },
  {
   "cell_type": "markdown",
   "id": "7ea82390",
   "metadata": {},
   "source": [
    "### Import Libraries "
   ]
  },
  {
   "cell_type": "code",
   "execution_count": 1,
   "id": "3033a216",
   "metadata": {},
   "outputs": [],
   "source": [
    "# This program uses a machine learning algorithm called a Decision Tree to predict if the price\n",
    "# of a stock will increase or decrease\n",
    "\n",
    "#import libraries\n",
    "from sklearn.model_selection import train_test_split\n",
    "from sklearn.tree import DecisionTreeClassifier, export_graphviz\n",
    "\n",
    "import numpy as np\n",
    "import pandas as pd\n",
    "import matplotlib.pyplot as plt\n",
    "import seaborn as sns\n",
    "from matplotlib.pylab import rcParams\n",
    "rcParams['figure.figsize'] = 20,10\n",
    "\n",
    "plt.style.use('fivethirtyeight')"
   ]
  },
  {
   "cell_type": "markdown",
   "id": "73bec933",
   "metadata": {},
   "source": [
    "### Load Dataset and trim to use last 100 days"
   ]
  },
  {
   "cell_type": "code",
   "execution_count": 2,
   "id": "f2cc4ba5",
   "metadata": {},
   "outputs": [],
   "source": [
    "#read the file and store data\n",
    "df = pd.read_csv('AAPL-2.csv')\n",
    "\n",
    "df.shape\n",
    "\n",
    "#Set Datae as index\n",
    "\n",
    "df = df.set_index(pd.DatetimeIndex(df['Date'].values))\n",
    "\n",
    "#Use the last 100 days\n",
    "df = df.tail(100)\n",
    "\n",
    "#Give the index a name\n",
    "df.index.name = 'Date'\n",
    "\n",
    "# Change the format for the Date column\n",
    "df['Date'] = pd.to_datetime(df.Date,format='%Y-%m-%d')"
   ]
  },
  {
   "cell_type": "markdown",
   "id": "cc804723",
   "metadata": {},
   "source": [
    "#### Description of Dataframe \n",
    "1. Important to find any missing values"
   ]
  },
  {
   "cell_type": "code",
   "execution_count": 3,
   "id": "77a951b0",
   "metadata": {},
   "outputs": [
    {
     "name": "stdout",
     "output_type": "stream",
     "text": [
      "<class 'pandas.core.frame.DataFrame'>\n",
      "DatetimeIndex: 100 entries, 2020-12-10 to 2021-05-05\n",
      "Data columns (total 7 columns):\n",
      " #   Column     Non-Null Count  Dtype         \n",
      "---  ------     --------------  -----         \n",
      " 0   Date       100 non-null    datetime64[ns]\n",
      " 1   Open       100 non-null    float64       \n",
      " 2   High       100 non-null    float64       \n",
      " 3   Low        100 non-null    float64       \n",
      " 4   Close      100 non-null    float64       \n",
      " 5   Adj Close  100 non-null    float64       \n",
      " 6   Volume     100 non-null    int64         \n",
      "dtypes: datetime64[ns](1), float64(5), int64(1)\n",
      "memory usage: 6.2 KB\n"
     ]
    }
   ],
   "source": [
    "df.info()"
   ]
  },
  {
   "cell_type": "markdown",
   "id": "42551b41",
   "metadata": {},
   "source": [
    "# Data Cleaning and Prep Dataset\n",
    "1. Create Target Dataset\n",
    "2. Will be used later in the machine learning models\n",
    "3. If Price increases it will receive value of 1, if decreases 0\n",
    "4. This will be done by shifting to the next day and comparing it. "
   ]
  },
  {
   "cell_type": "code",
   "execution_count": 4,
   "id": "d8533d72",
   "metadata": {},
   "outputs": [
    {
     "data": {
      "text/html": [
       "<div>\n",
       "<style scoped>\n",
       "    .dataframe tbody tr th:only-of-type {\n",
       "        vertical-align: middle;\n",
       "    }\n",
       "\n",
       "    .dataframe tbody tr th {\n",
       "        vertical-align: top;\n",
       "    }\n",
       "\n",
       "    .dataframe thead th {\n",
       "        text-align: right;\n",
       "    }\n",
       "</style>\n",
       "<table border=\"1\" class=\"dataframe\">\n",
       "  <thead>\n",
       "    <tr style=\"text-align: right;\">\n",
       "      <th></th>\n",
       "      <th>Open</th>\n",
       "      <th>High</th>\n",
       "      <th>Low</th>\n",
       "      <th>Close</th>\n",
       "      <th>Adj Close</th>\n",
       "      <th>Volume</th>\n",
       "      <th>Close_Change</th>\n",
       "    </tr>\n",
       "    <tr>\n",
       "      <th>Date</th>\n",
       "      <th></th>\n",
       "      <th></th>\n",
       "      <th></th>\n",
       "      <th></th>\n",
       "      <th></th>\n",
       "      <th></th>\n",
       "      <th></th>\n",
       "    </tr>\n",
       "  </thead>\n",
       "  <tbody>\n",
       "    <tr>\n",
       "      <th>2020-12-10</th>\n",
       "      <td>120.500000</td>\n",
       "      <td>123.870003</td>\n",
       "      <td>120.150002</td>\n",
       "      <td>123.239998</td>\n",
       "      <td>123.056114</td>\n",
       "      <td>81312200</td>\n",
       "      <td>1</td>\n",
       "    </tr>\n",
       "    <tr>\n",
       "      <th>2020-12-11</th>\n",
       "      <td>122.430000</td>\n",
       "      <td>122.760002</td>\n",
       "      <td>120.550003</td>\n",
       "      <td>122.410004</td>\n",
       "      <td>122.227356</td>\n",
       "      <td>86939800</td>\n",
       "      <td>0</td>\n",
       "    </tr>\n",
       "    <tr>\n",
       "      <th>2020-12-14</th>\n",
       "      <td>122.599998</td>\n",
       "      <td>123.349998</td>\n",
       "      <td>121.540001</td>\n",
       "      <td>121.779999</td>\n",
       "      <td>121.598289</td>\n",
       "      <td>79184500</td>\n",
       "      <td>0</td>\n",
       "    </tr>\n",
       "    <tr>\n",
       "      <th>2020-12-15</th>\n",
       "      <td>124.339996</td>\n",
       "      <td>127.900002</td>\n",
       "      <td>124.129997</td>\n",
       "      <td>127.879997</td>\n",
       "      <td>127.689186</td>\n",
       "      <td>157243700</td>\n",
       "      <td>1</td>\n",
       "    </tr>\n",
       "    <tr>\n",
       "      <th>2020-12-16</th>\n",
       "      <td>127.410004</td>\n",
       "      <td>128.369995</td>\n",
       "      <td>126.559998</td>\n",
       "      <td>127.809998</td>\n",
       "      <td>127.619293</td>\n",
       "      <td>98208600</td>\n",
       "      <td>1</td>\n",
       "    </tr>\n",
       "    <tr>\n",
       "      <th>...</th>\n",
       "      <td>...</td>\n",
       "      <td>...</td>\n",
       "      <td>...</td>\n",
       "      <td>...</td>\n",
       "      <td>...</td>\n",
       "      <td>...</td>\n",
       "      <td>...</td>\n",
       "    </tr>\n",
       "    <tr>\n",
       "      <th>2021-04-29</th>\n",
       "      <td>136.470001</td>\n",
       "      <td>137.070007</td>\n",
       "      <td>132.449997</td>\n",
       "      <td>133.479996</td>\n",
       "      <td>133.479996</td>\n",
       "      <td>151101000</td>\n",
       "      <td>0</td>\n",
       "    </tr>\n",
       "    <tr>\n",
       "      <th>2021-04-30</th>\n",
       "      <td>131.779999</td>\n",
       "      <td>133.559998</td>\n",
       "      <td>131.070007</td>\n",
       "      <td>131.460007</td>\n",
       "      <td>131.460007</td>\n",
       "      <td>109713200</td>\n",
       "      <td>0</td>\n",
       "    </tr>\n",
       "    <tr>\n",
       "      <th>2021-05-03</th>\n",
       "      <td>132.039993</td>\n",
       "      <td>134.070007</td>\n",
       "      <td>131.830002</td>\n",
       "      <td>132.539993</td>\n",
       "      <td>132.539993</td>\n",
       "      <td>75135100</td>\n",
       "      <td>1</td>\n",
       "    </tr>\n",
       "    <tr>\n",
       "      <th>2021-05-04</th>\n",
       "      <td>131.190002</td>\n",
       "      <td>131.490005</td>\n",
       "      <td>126.699997</td>\n",
       "      <td>127.849998</td>\n",
       "      <td>127.849998</td>\n",
       "      <td>137564700</td>\n",
       "      <td>0</td>\n",
       "    </tr>\n",
       "    <tr>\n",
       "      <th>2021-05-05</th>\n",
       "      <td>129.199997</td>\n",
       "      <td>130.449997</td>\n",
       "      <td>127.970001</td>\n",
       "      <td>128.100006</td>\n",
       "      <td>128.100006</td>\n",
       "      <td>83826300</td>\n",
       "      <td>0</td>\n",
       "    </tr>\n",
       "  </tbody>\n",
       "</table>\n",
       "<p>100 rows × 7 columns</p>\n",
       "</div>"
      ],
      "text/plain": [
       "                  Open        High         Low       Close   Adj Close  \\\n",
       "Date                                                                     \n",
       "2020-12-10  120.500000  123.870003  120.150002  123.239998  123.056114   \n",
       "2020-12-11  122.430000  122.760002  120.550003  122.410004  122.227356   \n",
       "2020-12-14  122.599998  123.349998  121.540001  121.779999  121.598289   \n",
       "2020-12-15  124.339996  127.900002  124.129997  127.879997  127.689186   \n",
       "2020-12-16  127.410004  128.369995  126.559998  127.809998  127.619293   \n",
       "...                ...         ...         ...         ...         ...   \n",
       "2021-04-29  136.470001  137.070007  132.449997  133.479996  133.479996   \n",
       "2021-04-30  131.779999  133.559998  131.070007  131.460007  131.460007   \n",
       "2021-05-03  132.039993  134.070007  131.830002  132.539993  132.539993   \n",
       "2021-05-04  131.190002  131.490005  126.699997  127.849998  127.849998   \n",
       "2021-05-05  129.199997  130.449997  127.970001  128.100006  128.100006   \n",
       "\n",
       "               Volume  Close_Change  \n",
       "Date                                 \n",
       "2020-12-10   81312200             1  \n",
       "2020-12-11   86939800             0  \n",
       "2020-12-14   79184500             0  \n",
       "2020-12-15  157243700             1  \n",
       "2020-12-16   98208600             1  \n",
       "...               ...           ...  \n",
       "2021-04-29  151101000             0  \n",
       "2021-04-30  109713200             0  \n",
       "2021-05-03   75135100             1  \n",
       "2021-05-04  137564700             0  \n",
       "2021-05-05   83826300             0  \n",
       "\n",
       "[100 rows x 7 columns]"
      ]
     },
     "execution_count": 4,
     "metadata": {},
     "output_type": "execute_result"
    }
   ],
   "source": [
    "# Shift to next day and compare it. If greater set value to one, else 0\n",
    "#df['Close_Change']= np.where(df['Close'].shift(-1) > df['Close'], 1, 0)\n",
    "df['Close_Change']= np.where(df['Close'] > df['Open'], 1, 0)\n",
    "#Remove Date column\n",
    "df = df.drop(columns = 'Date')\n",
    "\n",
    "#Display the Dataframe\n",
    "df"
   ]
  },
  {
   "cell_type": "markdown",
   "id": "766c3f8e",
   "metadata": {},
   "source": [
    "#### Add Column\n",
    "1. Add column called Price Variation.\n",
    "2. Subtract the start of the day and close of the day\n",
    "3. Give an idea of the price variation of the day for the past 100 days"
   ]
  },
  {
   "cell_type": "code",
   "execution_count": 5,
   "id": "b1dbaae2",
   "metadata": {},
   "outputs": [
    {
     "data": {
      "text/html": [
       "<div>\n",
       "<style scoped>\n",
       "    .dataframe tbody tr th:only-of-type {\n",
       "        vertical-align: middle;\n",
       "    }\n",
       "\n",
       "    .dataframe tbody tr th {\n",
       "        vertical-align: top;\n",
       "    }\n",
       "\n",
       "    .dataframe thead th {\n",
       "        text-align: right;\n",
       "    }\n",
       "</style>\n",
       "<table border=\"1\" class=\"dataframe\">\n",
       "  <thead>\n",
       "    <tr style=\"text-align: right;\">\n",
       "      <th></th>\n",
       "      <th>Open</th>\n",
       "      <th>High</th>\n",
       "      <th>Low</th>\n",
       "      <th>Close</th>\n",
       "      <th>Adj Close</th>\n",
       "      <th>Volume</th>\n",
       "      <th>Close_Change</th>\n",
       "      <th>Price_Variation</th>\n",
       "    </tr>\n",
       "    <tr>\n",
       "      <th>Date</th>\n",
       "      <th></th>\n",
       "      <th></th>\n",
       "      <th></th>\n",
       "      <th></th>\n",
       "      <th></th>\n",
       "      <th></th>\n",
       "      <th></th>\n",
       "      <th></th>\n",
       "    </tr>\n",
       "  </thead>\n",
       "  <tbody>\n",
       "    <tr>\n",
       "      <th>2020-12-10</th>\n",
       "      <td>120.500000</td>\n",
       "      <td>123.870003</td>\n",
       "      <td>120.150002</td>\n",
       "      <td>123.239998</td>\n",
       "      <td>123.056114</td>\n",
       "      <td>81312200</td>\n",
       "      <td>1</td>\n",
       "      <td>2.739998</td>\n",
       "    </tr>\n",
       "    <tr>\n",
       "      <th>2020-12-11</th>\n",
       "      <td>122.430000</td>\n",
       "      <td>122.760002</td>\n",
       "      <td>120.550003</td>\n",
       "      <td>122.410004</td>\n",
       "      <td>122.227356</td>\n",
       "      <td>86939800</td>\n",
       "      <td>0</td>\n",
       "      <td>-0.019996</td>\n",
       "    </tr>\n",
       "    <tr>\n",
       "      <th>2020-12-14</th>\n",
       "      <td>122.599998</td>\n",
       "      <td>123.349998</td>\n",
       "      <td>121.540001</td>\n",
       "      <td>121.779999</td>\n",
       "      <td>121.598289</td>\n",
       "      <td>79184500</td>\n",
       "      <td>0</td>\n",
       "      <td>-0.819999</td>\n",
       "    </tr>\n",
       "    <tr>\n",
       "      <th>2020-12-15</th>\n",
       "      <td>124.339996</td>\n",
       "      <td>127.900002</td>\n",
       "      <td>124.129997</td>\n",
       "      <td>127.879997</td>\n",
       "      <td>127.689186</td>\n",
       "      <td>157243700</td>\n",
       "      <td>1</td>\n",
       "      <td>3.540001</td>\n",
       "    </tr>\n",
       "    <tr>\n",
       "      <th>2020-12-16</th>\n",
       "      <td>127.410004</td>\n",
       "      <td>128.369995</td>\n",
       "      <td>126.559998</td>\n",
       "      <td>127.809998</td>\n",
       "      <td>127.619293</td>\n",
       "      <td>98208600</td>\n",
       "      <td>1</td>\n",
       "      <td>0.399994</td>\n",
       "    </tr>\n",
       "    <tr>\n",
       "      <th>...</th>\n",
       "      <td>...</td>\n",
       "      <td>...</td>\n",
       "      <td>...</td>\n",
       "      <td>...</td>\n",
       "      <td>...</td>\n",
       "      <td>...</td>\n",
       "      <td>...</td>\n",
       "      <td>...</td>\n",
       "    </tr>\n",
       "    <tr>\n",
       "      <th>2021-04-29</th>\n",
       "      <td>136.470001</td>\n",
       "      <td>137.070007</td>\n",
       "      <td>132.449997</td>\n",
       "      <td>133.479996</td>\n",
       "      <td>133.479996</td>\n",
       "      <td>151101000</td>\n",
       "      <td>0</td>\n",
       "      <td>-2.990005</td>\n",
       "    </tr>\n",
       "    <tr>\n",
       "      <th>2021-04-30</th>\n",
       "      <td>131.779999</td>\n",
       "      <td>133.559998</td>\n",
       "      <td>131.070007</td>\n",
       "      <td>131.460007</td>\n",
       "      <td>131.460007</td>\n",
       "      <td>109713200</td>\n",
       "      <td>0</td>\n",
       "      <td>-0.319992</td>\n",
       "    </tr>\n",
       "    <tr>\n",
       "      <th>2021-05-03</th>\n",
       "      <td>132.039993</td>\n",
       "      <td>134.070007</td>\n",
       "      <td>131.830002</td>\n",
       "      <td>132.539993</td>\n",
       "      <td>132.539993</td>\n",
       "      <td>75135100</td>\n",
       "      <td>1</td>\n",
       "      <td>0.500000</td>\n",
       "    </tr>\n",
       "    <tr>\n",
       "      <th>2021-05-04</th>\n",
       "      <td>131.190002</td>\n",
       "      <td>131.490005</td>\n",
       "      <td>126.699997</td>\n",
       "      <td>127.849998</td>\n",
       "      <td>127.849998</td>\n",
       "      <td>137564700</td>\n",
       "      <td>0</td>\n",
       "      <td>-3.340004</td>\n",
       "    </tr>\n",
       "    <tr>\n",
       "      <th>2021-05-05</th>\n",
       "      <td>129.199997</td>\n",
       "      <td>130.449997</td>\n",
       "      <td>127.970001</td>\n",
       "      <td>128.100006</td>\n",
       "      <td>128.100006</td>\n",
       "      <td>83826300</td>\n",
       "      <td>0</td>\n",
       "      <td>-1.099991</td>\n",
       "    </tr>\n",
       "  </tbody>\n",
       "</table>\n",
       "<p>100 rows × 8 columns</p>\n",
       "</div>"
      ],
      "text/plain": [
       "                  Open        High         Low       Close   Adj Close  \\\n",
       "Date                                                                     \n",
       "2020-12-10  120.500000  123.870003  120.150002  123.239998  123.056114   \n",
       "2020-12-11  122.430000  122.760002  120.550003  122.410004  122.227356   \n",
       "2020-12-14  122.599998  123.349998  121.540001  121.779999  121.598289   \n",
       "2020-12-15  124.339996  127.900002  124.129997  127.879997  127.689186   \n",
       "2020-12-16  127.410004  128.369995  126.559998  127.809998  127.619293   \n",
       "...                ...         ...         ...         ...         ...   \n",
       "2021-04-29  136.470001  137.070007  132.449997  133.479996  133.479996   \n",
       "2021-04-30  131.779999  133.559998  131.070007  131.460007  131.460007   \n",
       "2021-05-03  132.039993  134.070007  131.830002  132.539993  132.539993   \n",
       "2021-05-04  131.190002  131.490005  126.699997  127.849998  127.849998   \n",
       "2021-05-05  129.199997  130.449997  127.970001  128.100006  128.100006   \n",
       "\n",
       "               Volume  Close_Change  Price_Variation  \n",
       "Date                                                  \n",
       "2020-12-10   81312200             1         2.739998  \n",
       "2020-12-11   86939800             0        -0.019996  \n",
       "2020-12-14   79184500             0        -0.819999  \n",
       "2020-12-15  157243700             1         3.540001  \n",
       "2020-12-16   98208600             1         0.399994  \n",
       "...               ...           ...              ...  \n",
       "2021-04-29  151101000             0        -2.990005  \n",
       "2021-04-30  109713200             0        -0.319992  \n",
       "2021-05-03   75135100             1         0.500000  \n",
       "2021-05-04  137564700             0        -3.340004  \n",
       "2021-05-05   83826300             0        -1.099991  \n",
       "\n",
       "[100 rows x 8 columns]"
      ]
     },
     "execution_count": 5,
     "metadata": {},
     "output_type": "execute_result"
    }
   ],
   "source": [
    "#df['Price_Variation']= df['Open']-df['Close']\n",
    "df['Price_Variation']= df['Close']-df['Open']\n",
    "df"
   ]
  },
  {
   "cell_type": "code",
   "execution_count": null,
   "id": "d3b7fe76",
   "metadata": {},
   "outputs": [],
   "source": []
  },
  {
   "cell_type": "markdown",
   "id": "d44c5ad7",
   "metadata": {},
   "source": [
    "#### Data Prepartion\n",
    "1. Create Features to be used for the data models"
   ]
  },
  {
   "cell_type": "code",
   "execution_count": 6,
   "id": "2ce6e216",
   "metadata": {},
   "outputs": [
    {
     "data": {
      "text/html": [
       "<div>\n",
       "<style scoped>\n",
       "    .dataframe tbody tr th:only-of-type {\n",
       "        vertical-align: middle;\n",
       "    }\n",
       "\n",
       "    .dataframe tbody tr th {\n",
       "        vertical-align: top;\n",
       "    }\n",
       "\n",
       "    .dataframe thead th {\n",
       "        text-align: right;\n",
       "    }\n",
       "</style>\n",
       "<table border=\"1\" class=\"dataframe\">\n",
       "  <thead>\n",
       "    <tr style=\"text-align: right;\">\n",
       "      <th></th>\n",
       "      <th>Open</th>\n",
       "      <th>High</th>\n",
       "      <th>Low</th>\n",
       "      <th>Close</th>\n",
       "      <th>Adj Close</th>\n",
       "      <th>Volume</th>\n",
       "      <th>Close_Change</th>\n",
       "    </tr>\n",
       "    <tr>\n",
       "      <th>Date</th>\n",
       "      <th></th>\n",
       "      <th></th>\n",
       "      <th></th>\n",
       "      <th></th>\n",
       "      <th></th>\n",
       "      <th></th>\n",
       "      <th></th>\n",
       "    </tr>\n",
       "  </thead>\n",
       "  <tbody>\n",
       "    <tr>\n",
       "      <th>2020-12-10</th>\n",
       "      <td>120.500000</td>\n",
       "      <td>123.870003</td>\n",
       "      <td>120.150002</td>\n",
       "      <td>123.239998</td>\n",
       "      <td>123.056114</td>\n",
       "      <td>81312200</td>\n",
       "      <td>1</td>\n",
       "    </tr>\n",
       "    <tr>\n",
       "      <th>2020-12-11</th>\n",
       "      <td>122.430000</td>\n",
       "      <td>122.760002</td>\n",
       "      <td>120.550003</td>\n",
       "      <td>122.410004</td>\n",
       "      <td>122.227356</td>\n",
       "      <td>86939800</td>\n",
       "      <td>0</td>\n",
       "    </tr>\n",
       "    <tr>\n",
       "      <th>2020-12-14</th>\n",
       "      <td>122.599998</td>\n",
       "      <td>123.349998</td>\n",
       "      <td>121.540001</td>\n",
       "      <td>121.779999</td>\n",
       "      <td>121.598289</td>\n",
       "      <td>79184500</td>\n",
       "      <td>0</td>\n",
       "    </tr>\n",
       "    <tr>\n",
       "      <th>2020-12-15</th>\n",
       "      <td>124.339996</td>\n",
       "      <td>127.900002</td>\n",
       "      <td>124.129997</td>\n",
       "      <td>127.879997</td>\n",
       "      <td>127.689186</td>\n",
       "      <td>157243700</td>\n",
       "      <td>1</td>\n",
       "    </tr>\n",
       "    <tr>\n",
       "      <th>2020-12-16</th>\n",
       "      <td>127.410004</td>\n",
       "      <td>128.369995</td>\n",
       "      <td>126.559998</td>\n",
       "      <td>127.809998</td>\n",
       "      <td>127.619293</td>\n",
       "      <td>98208600</td>\n",
       "      <td>1</td>\n",
       "    </tr>\n",
       "    <tr>\n",
       "      <th>2020-12-17</th>\n",
       "      <td>128.899994</td>\n",
       "      <td>129.580002</td>\n",
       "      <td>128.039993</td>\n",
       "      <td>128.699997</td>\n",
       "      <td>128.507965</td>\n",
       "      <td>94359800</td>\n",
       "      <td>0</td>\n",
       "    </tr>\n",
       "    <tr>\n",
       "      <th>2020-12-18</th>\n",
       "      <td>128.960007</td>\n",
       "      <td>129.100006</td>\n",
       "      <td>126.120003</td>\n",
       "      <td>126.660004</td>\n",
       "      <td>126.471016</td>\n",
       "      <td>192541500</td>\n",
       "      <td>0</td>\n",
       "    </tr>\n",
       "    <tr>\n",
       "      <th>2020-12-21</th>\n",
       "      <td>125.019997</td>\n",
       "      <td>128.309998</td>\n",
       "      <td>123.449997</td>\n",
       "      <td>128.229996</td>\n",
       "      <td>128.038666</td>\n",
       "      <td>121251600</td>\n",
       "      <td>1</td>\n",
       "    </tr>\n",
       "    <tr>\n",
       "      <th>2020-12-22</th>\n",
       "      <td>131.610001</td>\n",
       "      <td>134.410004</td>\n",
       "      <td>129.649994</td>\n",
       "      <td>131.880005</td>\n",
       "      <td>131.683228</td>\n",
       "      <td>168904800</td>\n",
       "      <td>1</td>\n",
       "    </tr>\n",
       "    <tr>\n",
       "      <th>2020-12-23</th>\n",
       "      <td>132.160004</td>\n",
       "      <td>132.429993</td>\n",
       "      <td>130.779999</td>\n",
       "      <td>130.960007</td>\n",
       "      <td>130.764603</td>\n",
       "      <td>88223700</td>\n",
       "      <td>0</td>\n",
       "    </tr>\n",
       "  </tbody>\n",
       "</table>\n",
       "</div>"
      ],
      "text/plain": [
       "                  Open        High         Low       Close   Adj Close  \\\n",
       "Date                                                                     \n",
       "2020-12-10  120.500000  123.870003  120.150002  123.239998  123.056114   \n",
       "2020-12-11  122.430000  122.760002  120.550003  122.410004  122.227356   \n",
       "2020-12-14  122.599998  123.349998  121.540001  121.779999  121.598289   \n",
       "2020-12-15  124.339996  127.900002  124.129997  127.879997  127.689186   \n",
       "2020-12-16  127.410004  128.369995  126.559998  127.809998  127.619293   \n",
       "2020-12-17  128.899994  129.580002  128.039993  128.699997  128.507965   \n",
       "2020-12-18  128.960007  129.100006  126.120003  126.660004  126.471016   \n",
       "2020-12-21  125.019997  128.309998  123.449997  128.229996  128.038666   \n",
       "2020-12-22  131.610001  134.410004  129.649994  131.880005  131.683228   \n",
       "2020-12-23  132.160004  132.429993  130.779999  130.960007  130.764603   \n",
       "\n",
       "               Volume  Close_Change  \n",
       "Date                                 \n",
       "2020-12-10   81312200             1  \n",
       "2020-12-11   86939800             0  \n",
       "2020-12-14   79184500             0  \n",
       "2020-12-15  157243700             1  \n",
       "2020-12-16   98208600             1  \n",
       "2020-12-17   94359800             0  \n",
       "2020-12-18  192541500             0  \n",
       "2020-12-21  121251600             1  \n",
       "2020-12-22  168904800             1  \n",
       "2020-12-23   88223700             0  "
      ]
     },
     "execution_count": 6,
     "metadata": {},
     "output_type": "execute_result"
    }
   ],
   "source": [
    "features = [\"Open\", \"High\", \"Low\", \"Close\", \"Adj Close\",\"Volume\",\"Close_Change\"]\n",
    "apple = df[features]\n",
    "apple.head(10)"
   ]
  },
  {
   "cell_type": "markdown",
   "id": "f17870a6",
   "metadata": {},
   "source": [
    "## Data Exploration\n",
    "1. Past 100 Days, How many days were up or down?\n",
    "2. After 100 days, was there a positive or negative gain?\n",
    "3. Visualize the data"
   ]
  },
  {
   "cell_type": "code",
   "execution_count": 7,
   "id": "07b341a4",
   "metadata": {},
   "outputs": [
    {
     "data": {
      "text/plain": [
       "0    57\n",
       "1    43\n",
       "Name: Close_Change, dtype: int64"
      ]
     },
     "execution_count": 7,
     "metadata": {},
     "output_type": "execute_result"
    }
   ],
   "source": [
    "\n",
    "apple['Close_Change'].value_counts()"
   ]
  },
  {
   "cell_type": "code",
   "execution_count": 8,
   "id": "d14fd495",
   "metadata": {},
   "outputs": [
    {
     "data": {
      "text/plain": [
       "-13.970050000000171"
      ]
     },
     "execution_count": 8,
     "metadata": {},
     "output_type": "execute_result"
    }
   ],
   "source": [
    "df['Price_Variation'].sum()"
   ]
  },
  {
   "cell_type": "code",
   "execution_count": 9,
   "id": "0a0a1acf",
   "metadata": {},
   "outputs": [
    {
     "data": {
      "text/plain": [
       "count    100.000000\n",
       "mean      -0.139701\n",
       "std        1.906977\n",
       "min       -4.569999\n",
       "25%       -1.339994\n",
       "50%       -0.210002\n",
       "75%        1.027490\n",
       "max        4.040001\n",
       "Name: Price_Variation, dtype: float64"
      ]
     },
     "execution_count": 9,
     "metadata": {},
     "output_type": "execute_result"
    }
   ],
   "source": [
    "df['Price_Variation'].describe()"
   ]
  },
  {
   "cell_type": "code",
   "execution_count": 10,
   "id": "a37ead4e",
   "metadata": {},
   "outputs": [
    {
     "data": {
      "text/plain": [
       "count    100.000000\n",
       "mean     129.258900\n",
       "std        5.905387\n",
       "min      116.360001\n",
       "25%      124.567501\n",
       "50%      129.790001\n",
       "75%      133.775001\n",
       "max      143.160004\n",
       "Name: Close, dtype: float64"
      ]
     },
     "execution_count": 10,
     "metadata": {},
     "output_type": "execute_result"
    }
   ],
   "source": [
    "apple['Close'].describe()"
   ]
  },
  {
   "cell_type": "code",
   "execution_count": null,
   "id": "b457b27e",
   "metadata": {},
   "outputs": [],
   "source": []
  },
  {
   "cell_type": "code",
   "execution_count": 11,
   "id": "9db02922",
   "metadata": {},
   "outputs": [
    {
     "data": {
      "text/plain": [
       "[<matplotlib.lines.Line2D at 0x7ff6e3c9dfa0>]"
      ]
     },
     "execution_count": 11,
     "metadata": {},
     "output_type": "execute_result"
    },
    {
     "data": {
      "image/png": "[encoded data removed]",
      "text/plain": [
       "<Figure size 1152x576 with 1 Axes>"
      ]
     },
     "metadata": {},
     "output_type": "display_data"
    }
   ],
   "source": [
    "plt.figure(figsize=(16,8))\n",
    "plt.plot(apple[\"Close\"], label = 'Apple Close Price History for 100 Days')"
   ]
  },
  {
   "cell_type": "code",
   "execution_count": 13,
   "id": "0ecd96e4",
   "metadata": {},
   "outputs": [
    {
     "data": {
      "image/png": "[encoded data removed]",
      "text/plain": [
       "<Figure size 1440x720 with 1 Axes>"
      ]
     },
     "metadata": {},
     "output_type": "display_data"
    }
   ],
   "source": [
    "data = df['Price_Variation']\n",
    "data.loc[:].plot(kind='bar', color = 'b')\n",
    "plt.xticks([])\n",
    "plt.show()"
   ]
  },
  {
   "cell_type": "markdown",
   "id": "c63461e2",
   "metadata": {},
   "source": [
    "## Machine Learning Models\n",
    "1. Two models will be used, Decision Tree and KnnNeighbors\n",
    "2. Data will be split into features and target variables\n",
    "3. Features will be scaled using MinMaxScaler\n",
    "4. Split the data into train and test datasets\n"
   ]
  },
  {
   "cell_type": "code",
   "execution_count": 14,
   "id": "c47b44c0",
   "metadata": {},
   "outputs": [],
   "source": [
    "#Split Dataset into a feature and a target dataset\n",
    "\n",
    "X = apple.loc[:, \"Open\":\"Volume\"].values\n",
    "y = apple.loc[:,\"Close_Change\"].values\n"
   ]
  },
  {
   "cell_type": "code",
   "execution_count": 15,
   "id": "aa255dfa",
   "metadata": {},
   "outputs": [
    {
     "data": {
      "text/plain": [
       "array([[-21.9390991 , -22.44799127, -22.18002516, -22.17290659,\n",
       "        -22.29303088,  -3.56492527],\n",
       "       [-21.88487641, -22.48009222, -22.16819518, -22.19694706,\n",
       "        -22.31731502,  -3.56492527],\n",
       "       [-21.88010038, -22.46302969, -22.13891613, -22.21519493,\n",
       "        -22.33574785,  -3.56492528],\n",
       "       [-21.83121573, -22.33144469, -22.06231735, -22.03851072,\n",
       "        -22.15727331,  -3.56492519],\n",
       "       [-21.7449649 , -22.31785261, -21.9904504 , -22.04053822,\n",
       "        -22.15932131,  -3.56492526],\n",
       "       [-21.70310415, -22.28285951, -21.94667975, -22.01475972,\n",
       "        -22.13328158,  -3.56492526],\n",
       "       [-21.7014181 , -22.29674087, -22.0034632 , -22.07384737,\n",
       "        -22.19296795,  -3.56492515],\n",
       "       [-21.81211133, -22.31958771, -22.08242826, -22.02837313,\n",
       "        -22.14703291,  -3.56492523],\n",
       "       [-21.62696743, -22.14317704, -21.8990642 , -21.92265195,\n",
       "        -22.0402405 ,  -3.56492518],\n",
       "       [-21.61151528, -22.20043847, -21.86564445, -21.94929936,\n",
       "        -22.06715791,  -3.56492527],\n",
       "       [-21.63511471, -22.17065072, -21.85618029, -21.92004525,\n",
       "        -22.03760747,  -3.5649253 ],\n",
       "       [-21.56010203, -22.0584424 , -21.7849052 , -21.78333215,\n",
       "        -21.89950886,  -3.56492523],\n",
       "       [-21.44603778, -22.01650885, -21.76035803, -21.83604799,\n",
       "        -21.95275884,  -3.56492523],\n",
       "       [-21.51543161, -22.09748381, -21.78815846, -21.86935714,\n",
       "        -21.98640571,  -3.56492526],\n",
       "       [-21.5575736 , -22.1336335 , -21.83784402, -21.89919069,\n",
       "        -22.01654141,  -3.56492525],\n",
       "       [-21.57330655, -22.16631293, -21.98453531, -21.99419463,\n",
       "        -22.11250792,  -3.5649252 ],\n",
       "       [-21.70338495, -22.22039276, -21.93514556, -21.94785147,\n",
       "        -22.06569543,  -3.56492526],\n",
       "       [-21.73625564, -22.24034744, -21.99577391, -22.07558542,\n",
       "        -22.19472354,  -3.56492519],\n",
       "       [-21.71827506, -22.22357393, -21.95200299, -21.9504582 ,\n",
       "        -22.06832846,  -3.56492524],\n",
       "       [-21.60393003, -22.19465418, -21.88191072, -21.91772802,\n",
       "        -22.03526687,  -3.56492525],\n",
       "       [-21.69495647, -22.26579697, -21.93307511, -22.00664965,\n",
       "        -22.12508916,  -3.56492525],\n",
       "       [-21.71434184, -22.27967834, -21.98157786, -22.01186308,\n",
       "        -22.13035567,  -3.56492526],\n",
       "       [-21.70703737, -22.22877972, -21.93337071, -21.95132711,\n",
       "        -22.06920614,  -3.56492527],\n",
       "       [-21.64972404, -22.24179352, -21.92538579, -22.00867694,\n",
       "        -22.12713692,  -3.56492526],\n",
       "       [-21.70647536, -22.2643509 , -21.97743741, -22.05994449,\n",
       "        -22.17892422,  -3.56492524],\n",
       "       [-21.73457002, -22.30801955, -21.97921184, -22.03995881,\n",
       "        -22.15873603,  -3.56492526],\n",
       "       [-21.70984658, -22.19870294, -21.93159628, -21.91830743,\n",
       "        -22.03585211,  -3.56492525],\n",
       "       [-21.56544007, -21.99105932, -21.78253918, -21.77811872,\n",
       "        -21.89424279,  -3.56492523],\n",
       "       [-21.49576543, -21.98585353, -21.74024689, -21.71439618,\n",
       "        -21.82987448,  -3.56492524],\n",
       "       [-21.30500248, -21.83431432, -21.69529342, -21.6028826 ,\n",
       "        -21.71723074,  -3.56492519],\n",
       "       [-21.29011234, -21.85716072, -21.55244677, -21.59593091,\n",
       "        -21.71020887,  -3.56492526],\n",
       "       [-21.2948888 , -21.85716072, -21.58083838, -21.62779219,\n",
       "        -21.74239279,  -3.56492521],\n",
       "       [-21.4047386 , -21.92396529, -21.69056132, -21.77174647,\n",
       "        -21.88780573,  -3.56492521],\n",
       "       [-21.50840794, -22.07579399, -21.88250189, -21.92033473,\n",
       "        -22.0378999 ,  -3.56492517],\n",
       "       [-21.56684489, -22.11512486, -21.8612084 , -21.85719206,\n",
       "        -21.97411731,  -3.56492525],\n",
       "       [-21.51121758, -22.08822969, -21.75237267, -21.83257194,\n",
       "        -21.94924769,  -3.56492527],\n",
       "       [-21.51037477, -22.10384618, -21.78194753, -21.8629849 ,\n",
       "        -21.97996866,  -3.56492527],\n",
       "       [-21.49520343, -22.05670727, -21.75296431, -21.763057  ,\n",
       "        -21.87902848,  -3.56492527],\n",
       "       [-21.46570395, -22.05612876, -21.71540409, -21.78130483,\n",
       "        -21.89148185,  -3.56492528],\n",
       "       [-21.5027891 , -22.06943159, -21.74320455, -21.77695988,\n",
       "        -21.88708631,  -3.56492529],\n",
       "       [-21.48621336, -22.04282547, -21.71569969, -21.80302831,\n",
       "        -21.91345824,  -3.56492528],\n",
       "       [-21.49014659, -22.06856405, -21.7585836 , -21.82098626,\n",
       "        -21.93162527,  -3.56492528],\n",
       "       [-21.50644154, -22.08591608, -21.77721546, -21.82851689,\n",
       "        -21.93924357,  -3.56492529],\n",
       "       [-21.54998793, -22.11078707, -21.77958151, -21.82156567,\n",
       "        -21.93221142,  -3.5649253 ],\n",
       "       [-21.51796004, -22.0969057 , -21.80619916, -21.88470837,\n",
       "        -21.99608924,  -3.56492528],\n",
       "       [-21.63708153, -22.20651139, -21.90438746, -21.95277543,\n",
       "        -22.06494876,  -3.56492526],\n",
       "       [-21.69467566, -22.27071327, -21.96531159, -21.98550515,\n",
       "        -22.09805953,  -3.56492526],\n",
       "       [-21.665457  , -22.25018004, -21.92420256, -21.98087116,\n",
       "        -22.09337158,  -3.56492527],\n",
       "       [-21.72810836, -22.27881077, -22.01884227, -22.09296414,\n",
       "        -22.20676959,  -3.56492525],\n",
       "       [-21.84751046, -22.36585929, -22.232077  , -22.09701916,\n",
       "        -22.21087181,  -3.56492519],\n",
       "       [-21.81435876, -22.39911703, -22.11850941, -22.11179121,\n",
       "        -22.22581584,  -3.56492524],\n",
       "       [-21.82166343, -22.37308922, -22.16849099, -22.23807702,\n",
       "        -22.3535719 ,  -3.5649252 ],\n",
       "       [-21.88038138, -22.41965006, -22.1489717 , -22.23025645,\n",
       "        -22.34566028,  -3.56492518],\n",
       "       [-21.84779146, -22.33057716, -22.10194755, -22.04111742,\n",
       "        -22.15431925,  -3.56492523],\n",
       "       [-21.71687025, -22.30773053, -22.03629132, -22.11845294,\n",
       "        -22.23255512,  -3.56492525],\n",
       "       [-21.81801118, -22.39477904, -22.13004382, -22.20708486,\n",
       "        -22.32221892,  -3.56492524],\n",
       "       [-21.90398078, -22.45579975, -22.22527467, -22.26298663,\n",
       "        -22.37877152,  -3.56492516],\n",
       "       [-21.92561358, -22.50380642, -22.25632836, -22.22562223,\n",
       "        -22.34097211,  -3.56492519],\n",
       "       [-21.9270184 , -22.53099105, -22.29655021, -22.37218318,\n",
       "        -22.48923937,  -3.56492519],\n",
       "       [-21.98039827, -22.50033617, -22.220247  , -22.23518061,\n",
       "        -22.35064177,  -3.56492522],\n",
       "       [-21.9056664 , -22.49715499, -22.20072771, -22.26733115,\n",
       "        -22.38316662,  -3.56492524],\n",
       "       [-21.88178597, -22.46707842, -22.14719706, -22.20998129,\n",
       "        -22.32514908,  -3.56492525],\n",
       "       [-21.94190851, -22.52607475, -22.20930421, -22.2369184 ,\n",
       "        -22.3523998 ,  -3.56492527],\n",
       "       [-21.91353285, -22.44423179, -22.17204006, -22.15118312,\n",
       "        -22.26566636,  -3.56492526],\n",
       "       [-21.79300697, -22.35111015, -22.04486806, -22.10541894,\n",
       "        -22.21936938,  -3.56492524],\n",
       "       [-21.83936298, -22.39044102, -22.11525638, -22.12888023,\n",
       "        -22.24310382,  -3.56492524],\n",
       "       [-21.8722339 , -22.46794599, -22.17499749, -22.25140072,\n",
       "        -22.36705072,  -3.56492523],\n",
       "       [-21.95595584, -22.51855555, -22.1939254 , -22.26704165,\n",
       "        -22.38287375,  -3.56492516],\n",
       "       [-21.94387514, -22.44799127, -22.17677192, -22.16856187,\n",
       "        -22.28324744,  -3.56492524],\n",
       "       [-21.85959116, -22.43729111, -22.12117127, -22.19318175,\n",
       "        -22.30815395,  -3.56492526],\n",
       "       [-21.87391949, -22.47604346, -22.1823912 , -22.26414525,\n",
       "        -22.37994362,  -3.56492527],\n",
       "       [-21.96606994, -22.51190389, -22.21403631, -22.24966293,\n",
       "        -22.3652927 ,  -3.56492525],\n",
       "       [-21.94331335, -22.51710948, -22.21640236, -22.23170477,\n",
       "        -22.34712546,  -3.56492526],\n",
       "       [-21.90679019, -22.48529778, -22.16287171, -22.22649114,\n",
       "        -22.34185113,  -3.56492528],\n",
       "       [-21.95005599, -22.54834284, -22.21817676, -22.26964835,\n",
       "        -22.3855108 ,  -3.56492527],\n",
       "       [-21.90679019, -22.45811336, -22.15045029, -22.20447793,\n",
       "        -22.31958164,  -3.56492523],\n",
       "       [-21.85031987, -22.43902623, -22.1108201 , -22.17985805,\n",
       "        -22.29467513,  -3.56492528],\n",
       "       [-21.84442002, -22.38176501, -22.09366662, -22.09586055,\n",
       "        -22.20969971,  -3.56492527],\n",
       "       [-21.77053115, -22.35371305, -22.01736341, -22.0868816 ,\n",
       "        -22.20061623,  -3.56492528],\n",
       "       [-21.78935452, -22.33086641, -22.03244668, -22.03793128,\n",
       "        -22.15109602,  -3.56492527],\n",
       "       [-21.70169933, -22.2594346 , -21.9324835 , -21.96667831,\n",
       "        -22.0790135 ,  -3.56492527],\n",
       "       [-21.6778187 , -22.18279742, -21.90438746, -21.89021171,\n",
       "        -22.00165665,  -3.56492525],\n",
       "       [-21.6014012 , -22.1882918 , -21.8700805 , -21.94118932,\n",
       "        -22.05322776,  -3.56492526],\n",
       "       [-21.60364883, -22.13594711, -21.83163354, -21.84879249,\n",
       "        -21.95975522,  -3.56492526],\n",
       "       [-21.53341219, -22.12611451, -21.83961843, -21.91830743,\n",
       "        -22.03007947,  -3.56492527],\n",
       "       [-21.56487807, -22.12611451, -21.78106034, -21.84676476,\n",
       "        -21.95770388,  -3.56492527],\n",
       "       [-21.55139274, -22.13565808, -21.7917073 , -21.85661262,\n",
       "        -21.96766639,  -3.56492527],\n",
       "       [-21.57358775, -22.11252219, -21.78993289, -21.8369169 ,\n",
       "        -21.94774137,  -3.56492526],\n",
       "       [-21.53116456, -22.11078707, -21.83518237, -21.88702557,\n",
       "        -21.99843342,  -3.56492526],\n",
       "       [-21.60589643, -22.1622642 , -21.85026541, -21.87572939,\n",
       "        -21.98700573,  -3.56492529],\n",
       "       [-21.58679229, -22.15069647, -21.84701214, -21.92091416,\n",
       "        -22.03271655,  -3.56492527],\n",
       "       [-21.61151528, -22.12264428, -21.82483099, -21.85197819,\n",
       "        -21.96297801,  -3.56492528],\n",
       "       [-21.5365026 , -22.12437938, -21.78342636, -21.84039251,\n",
       "        -21.95125745,  -3.56492529],\n",
       "       [-21.53144576, -22.11425729, -21.7671601 , -21.8499509 ,\n",
       "        -21.96092711,  -3.56492529],\n",
       "       [-21.55111194, -22.125536  , -21.79762218, -21.87341216,\n",
       "        -21.98466152,  -3.56492524],\n",
       "       [-21.49042739, -22.06625042, -21.81625449, -21.8763088 ,\n",
       "        -21.98759188,  -3.5649252 ],\n",
       "       [-21.62219139, -22.16775901, -21.85706751, -21.93481704,\n",
       "        -22.04678129,  -3.56492524],\n",
       "       [-21.61488695, -22.15300967, -21.83459076, -21.90353564,\n",
       "        -22.01513571,  -3.56492528],\n",
       "       [-21.63876716, -22.22762269, -21.98630995, -22.03937963,\n",
       "        -22.15256123,  -3.56492521],\n",
       "       [-21.69467566, -22.25769947, -21.94874976, -22.03213824,\n",
       "        -22.14523553,  -3.56492527]])"
      ]
     },
     "execution_count": 15,
     "metadata": {},
     "output_type": "execute_result"
    }
   ],
   "source": [
    "from sklearn.preprocessing import StandardScaler\n",
    "sc = StandardScaler()\n",
    "X = sc.fit_transform(X)\n",
    "sc.transform(X)"
   ]
  },
  {
   "cell_type": "code",
   "execution_count": null,
   "id": "554e54ea",
   "metadata": {},
   "outputs": [],
   "source": []
  },
  {
   "cell_type": "code",
   "execution_count": 16,
   "id": "f65a6b8d",
   "metadata": {},
   "outputs": [],
   "source": [
    "#from sklearn import preprocessing\n",
    "#sc = preprocessing.MinMaxScaler()\n",
    "#X = sc.fit_transform(X)\n",
    "#sc.transform(X)"
   ]
  },
  {
   "cell_type": "code",
   "execution_count": null,
   "id": "7dbaa6ca",
   "metadata": {},
   "outputs": [],
   "source": []
  },
  {
   "cell_type": "code",
   "execution_count": 17,
   "id": "43264ae1",
   "metadata": {},
   "outputs": [],
   "source": [
    "#Split Data into 65% Training and 35% testing \n",
    "X_train,X_test, y_train,y_test = train_test_split(X,y, test_size=0.30, random_state = 42)"
   ]
  },
  {
   "cell_type": "code",
   "execution_count": 18,
   "id": "f5e08c28",
   "metadata": {},
   "outputs": [],
   "source": [
    "#from sklearn import preprocessing\n",
    "#sc = preprocessing.MinMaxScaler()\n",
    "#X_train_minmax = sc.fit_transform(X_train)\n",
    "#sc.transform(X_test)"
   ]
  },
  {
   "cell_type": "markdown",
   "id": "41661d98",
   "metadata": {},
   "source": [
    "# Decision Tree Model"
   ]
  },
  {
   "cell_type": "code",
   "execution_count": 19,
   "id": "59b815d2",
   "metadata": {},
   "outputs": [
    {
     "data": {
      "text/plain": [
       "0.6333333333333333"
      ]
     },
     "execution_count": 19,
     "metadata": {},
     "output_type": "execute_result"
    }
   ],
   "source": [
    "#Create and Train the model (DecisionTreeClassifier)\n",
    "tree = DecisionTreeClassifier()\n",
    "tree.fit(X_train, y_train)\n",
    "\n",
    "#Show how well model did on test data set\n",
    "tree.score(X_test, y_test)"
   ]
  },
  {
   "cell_type": "code",
   "execution_count": 20,
   "id": "55c92c18",
   "metadata": {},
   "outputs": [],
   "source": [
    "#Show the models preditions\n",
    "tree_predictions = tree.predict(X_test)\n"
   ]
  },
  {
   "cell_type": "code",
   "execution_count": 21,
   "id": "0429afe2",
   "metadata": {},
   "outputs": [
    {
     "data": {
      "text/plain": [
       "'digraph Tree {\\nnode [shape=box] ;\\n0 [label=\"Open <= 0.777\\\\ngini = 0.493\\\\nsamples = 70\\\\nvalue = [39, 31]\"] ;\\n1 [label=\"High <= 0.361\\\\ngini = 0.498\\\\nsamples = 53\\\\nvalue = [25, 28]\"] ;\\n0 -> 1 [labeldistance=2.5, labelangle=45, headlabel=\"True\"] ;\\n2 [label=\"Open <= -1.295\\\\ngini = 0.487\\\\nsamples = 43\\\\nvalue = [25, 18]\"] ;\\n1 -> 2 ;\\n3 [label=\"Close <= -1.585\\\\ngini = 0.32\\\\nsamples = 10\\\\nvalue = [2, 8]\"] ;\\n2 -> 3 ;\\n4 [label=\"gini = 0.0\\\\nsamples = 2\\\\nvalue = [2, 0]\"] ;\\n3 -> 4 ;\\n5 [label=\"gini = 0.0\\\\nsamples = 8\\\\nvalue = [0, 8]\"] ;\\n3 -> 5 ;\\n6 [label=\"Adj Close <= -0.974\\\\ngini = 0.422\\\\nsamples = 33\\\\nvalue = [23, 10]\"] ;\\n2 -> 6 ;\\n7 [label=\"gini = 0.0\\\\nsamples = 8\\\\nvalue = [8, 0]\"] ;\\n6 -> 7 ;\\n8 [label=\"Low <= -0.56\\\\ngini = 0.48\\\\nsamples = 25\\\\nvalue = [15, 10]\"] ;\\n6 -> 8 ;\\n9 [label=\"gini = 0.0\\\\nsamples = 5\\\\nvalue = [0, 5]\"] ;\\n8 -> 9 ;\\n10 [label=\"Volume <= -0.227\\\\ngini = 0.375\\\\nsamples = 20\\\\nvalue = [15, 5]\"] ;\\n8 -> 10 ;\\n11 [label=\"Low <= 0.002\\\\ngini = 0.496\\\\nsamples = 11\\\\nvalue = [6, 5]\"] ;\\n10 -> 11 ;\\n12 [label=\"High <= -0.56\\\\ngini = 0.32\\\\nsamples = 5\\\\nvalue = [1, 4]\"] ;\\n11 -> 12 ;\\n13 [label=\"gini = 0.0\\\\nsamples = 1\\\\nvalue = [1, 0]\"] ;\\n12 -> 13 ;\\n14 [label=\"gini = 0.0\\\\nsamples = 4\\\\nvalue = [0, 4]\"] ;\\n12 -> 14 ;\\n15 [label=\"Volume <= -0.328\\\\ngini = 0.278\\\\nsamples = 6\\\\nvalue = [5, 1]\"] ;\\n11 -> 15 ;\\n16 [label=\"gini = 0.0\\\\nsamples = 5\\\\nvalue = [5, 0]\"] ;\\n15 -> 16 ;\\n17 [label=\"gini = 0.0\\\\nsamples = 1\\\\nvalue = [0, 1]\"] ;\\n15 -> 17 ;\\n18 [label=\"gini = 0.0\\\\nsamples = 9\\\\nvalue = [9, 0]\"] ;\\n10 -> 18 ;\\n19 [label=\"gini = 0.0\\\\nsamples = 10\\\\nvalue = [0, 10]\"] ;\\n1 -> 19 ;\\n20 [label=\"Adj Close <= 1.344\\\\ngini = 0.291\\\\nsamples = 17\\\\nvalue = [14, 3]\"] ;\\n0 -> 20 [labeldistance=2.5, labelangle=-45, headlabel=\"False\"] ;\\n21 [label=\"Volume <= -1.438\\\\ngini = 0.133\\\\nsamples = 14\\\\nvalue = [13, 1]\"] ;\\n20 -> 21 ;\\n22 [label=\"gini = 0.0\\\\nsamples = 1\\\\nvalue = [0, 1]\"] ;\\n21 -> 22 ;\\n23 [label=\"gini = 0.0\\\\nsamples = 13\\\\nvalue = [13, 0]\"] ;\\n21 -> 23 ;\\n24 [label=\"Volume <= 1.021\\\\ngini = 0.444\\\\nsamples = 3\\\\nvalue = [1, 2]\"] ;\\n20 -> 24 ;\\n25 [label=\"gini = 0.0\\\\nsamples = 2\\\\nvalue = [0, 2]\"] ;\\n24 -> 25 ;\\n26 [label=\"gini = 0.0\\\\nsamples = 1\\\\nvalue = [1, 0]\"] ;\\n24 -> 26 ;\\n}'"
      ]
     },
     "execution_count": 21,
     "metadata": {},
     "output_type": "execute_result"
    }
   ],
   "source": [
    "# Use Graphviz\n",
    "tree_dot = export_graphviz(tree, out_file=None, feature_names=features[:apple.shape[1]-1])\n",
    "tree_dot"
   ]
  },
  {
   "cell_type": "code",
   "execution_count": 22,
   "id": "231eed5c",
   "metadata": {},
   "outputs": [
    {
     "data": {
      "image/svg+xml": [
       "<?xml version=\"1.0\" encoding=\"UTF-8\" standalone=\"no\"?>\n",
       "<!DOCTYPE svg PUBLIC \"-//W3C//DTD SVG 1.1//EN\"\n",
       " \"http://www.w3.org/Graphics/SVG/1.1/DTD/svg11.dtd\">\n",
       "<!-- Generated by graphviz version 2.40.1 (20161225.0304)\n",
       " -->\n",
       "<!-- Title: Tree Pages: 1 -->\n",
       "<svg width=\"832pt\" height=\"893pt\"\n",
       " viewBox=\"0.00 0.00 832.00 893.00\" xmlns=\"http://www.w3.org/2000/svg\" xmlns:xlink=\"http://www.w3.org/1999/xlink\">\n",
       "<g id=\"graph0\" class=\"graph\" transform=\"scale(1 1) rotate(0) translate(4 889)\">\n",
       "<title>Tree</title>\n",
       "<polygon fill=\"#ffffff\" stroke=\"transparent\" points=\"-4,4 -4,-889 828,-889 828,4 -4,4\"/>\n",
       "<!-- 0 -->\n",
       "<g id=\"node1\" class=\"node\">\n",
       "<title>0</title>\n",
       "<polygon fill=\"none\" stroke=\"#000000\" points=\"522,-885 416,-885 416,-817 522,-817 522,-885\"/>\n",
       "<text text-anchor=\"middle\" x=\"469\" y=\"-869.8\" font-family=\"Times,serif\" font-size=\"14.00\" fill=\"#000000\">Open &lt;= 0.777</text>\n",
       "<text text-anchor=\"middle\" x=\"469\" y=\"-854.8\" font-family=\"Times,serif\" font-size=\"14.00\" fill=\"#000000\">gini = 0.493</text>\n",
       "<text text-anchor=\"middle\" x=\"469\" y=\"-839.8\" font-family=\"Times,serif\" font-size=\"14.00\" fill=\"#000000\">samples = 70</text>\n",
       "<text text-anchor=\"middle\" x=\"469\" y=\"-824.8\" font-family=\"Times,serif\" font-size=\"14.00\" fill=\"#000000\">value = [39, 31]</text>\n",
       "</g>\n",
       "<!-- 1 -->\n",
       "<g id=\"node2\" class=\"node\">\n",
       "<title>1</title>\n",
       "<polygon fill=\"none\" stroke=\"#000000\" points=\"455,-781 349,-781 349,-713 455,-713 455,-781\"/>\n",
       "<text text-anchor=\"middle\" x=\"402\" y=\"-765.8\" font-family=\"Times,serif\" font-size=\"14.00\" fill=\"#000000\">High &lt;= 0.361</text>\n",
       "<text text-anchor=\"middle\" x=\"402\" y=\"-750.8\" font-family=\"Times,serif\" font-size=\"14.00\" fill=\"#000000\">gini = 0.498</text>\n",
       "<text text-anchor=\"middle\" x=\"402\" y=\"-735.8\" font-family=\"Times,serif\" font-size=\"14.00\" fill=\"#000000\">samples = 53</text>\n",
       "<text text-anchor=\"middle\" x=\"402\" y=\"-720.8\" font-family=\"Times,serif\" font-size=\"14.00\" fill=\"#000000\">value = [25, 28]</text>\n",
       "</g>\n",
       "<!-- 0&#45;&gt;1 -->\n",
       "<g id=\"edge1\" class=\"edge\">\n",
       "<title>0&#45;&gt;1</title>\n",
       "<path fill=\"none\" stroke=\"#000000\" d=\"M447.0617,-816.9465C441.451,-808.2373 435.3471,-798.7626 429.4958,-789.6801\"/>\n",
       "<polygon fill=\"#000000\" stroke=\"#000000\" points=\"432.3457,-787.641 423.9876,-781.13 426.4611,-791.4321 432.3457,-787.641\"/>\n",
       "<text text-anchor=\"middle\" x=\"418.7006\" y=\"-801.8646\" font-family=\"Times,serif\" font-size=\"14.00\" fill=\"#000000\">True</text>\n",
       "</g>\n",
       "<!-- 20 -->\n",
       "<g id=\"node21\" class=\"node\">\n",
       "<title>20</title>\n",
       "<polygon fill=\"none\" stroke=\"#000000\" points=\"600.5,-781 473.5,-781 473.5,-713 600.5,-713 600.5,-781\"/>\n",
       "<text text-anchor=\"middle\" x=\"537\" y=\"-765.8\" font-family=\"Times,serif\" font-size=\"14.00\" fill=\"#000000\">Adj Close &lt;= 1.344</text>\n",
       "<text text-anchor=\"middle\" x=\"537\" y=\"-750.8\" font-family=\"Times,serif\" font-size=\"14.00\" fill=\"#000000\">gini = 0.291</text>\n",
       "<text text-anchor=\"middle\" x=\"537\" y=\"-735.8\" font-family=\"Times,serif\" font-size=\"14.00\" fill=\"#000000\">samples = 17</text>\n",
       "<text text-anchor=\"middle\" x=\"537\" y=\"-720.8\" font-family=\"Times,serif\" font-size=\"14.00\" fill=\"#000000\">value = [14, 3]</text>\n",
       "</g>\n",
       "<!-- 0&#45;&gt;20 -->\n",
       "<g id=\"edge20\" class=\"edge\">\n",
       "<title>0&#45;&gt;20</title>\n",
       "<path fill=\"none\" stroke=\"#000000\" d=\"M491.2657,-816.9465C496.9602,-808.2373 503.1552,-798.7626 509.0938,-789.6801\"/>\n",
       "<polygon fill=\"#000000\" stroke=\"#000000\" points=\"512.1411,-791.4151 514.6842,-781.13 506.2823,-787.5843 512.1411,-791.4151\"/>\n",
       "<text text-anchor=\"middle\" x=\"519.8058\" y=\"-801.8998\" font-family=\"Times,serif\" font-size=\"14.00\" fill=\"#000000\">False</text>\n",
       "</g>\n",
       "<!-- 2 -->\n",
       "<g id=\"node3\" class=\"node\">\n",
       "<title>2</title>\n",
       "<polygon fill=\"none\" stroke=\"#000000\" points=\"336,-677 230,-677 230,-609 336,-609 336,-677\"/>\n",
       "<text text-anchor=\"middle\" x=\"283\" y=\"-661.8\" font-family=\"Times,serif\" font-size=\"14.00\" fill=\"#000000\">Open &lt;= &#45;1.295</text>\n",
       "<text text-anchor=\"middle\" x=\"283\" y=\"-646.8\" font-family=\"Times,serif\" font-size=\"14.00\" fill=\"#000000\">gini = 0.487</text>\n",
       "<text text-anchor=\"middle\" x=\"283\" y=\"-631.8\" font-family=\"Times,serif\" font-size=\"14.00\" fill=\"#000000\">samples = 43</text>\n",
       "<text text-anchor=\"middle\" x=\"283\" y=\"-616.8\" font-family=\"Times,serif\" font-size=\"14.00\" fill=\"#000000\">value = [25, 18]</text>\n",
       "</g>\n",
       "<!-- 1&#45;&gt;2 -->\n",
       "<g id=\"edge2\" class=\"edge\">\n",
       "<title>1&#45;&gt;2</title>\n",
       "<path fill=\"none\" stroke=\"#000000\" d=\"M363.0349,-712.9465C352.3505,-703.6088 340.6591,-693.3911 329.5934,-683.7203\"/>\n",
       "<polygon fill=\"#000000\" stroke=\"#000000\" points=\"331.8855,-681.0752 322.0526,-677.13 327.2791,-686.346 331.8855,-681.0752\"/>\n",
       "</g>\n",
       "<!-- 19 -->\n",
       "<g id=\"node20\" class=\"node\">\n",
       "<title>19</title>\n",
       "<polygon fill=\"none\" stroke=\"#000000\" points=\"453.5,-669.5 354.5,-669.5 354.5,-616.5 453.5,-616.5 453.5,-669.5\"/>\n",
       "<text text-anchor=\"middle\" x=\"404\" y=\"-654.3\" font-family=\"Times,serif\" font-size=\"14.00\" fill=\"#000000\">gini = 0.0</text>\n",
       "<text text-anchor=\"middle\" x=\"404\" y=\"-639.3\" font-family=\"Times,serif\" font-size=\"14.00\" fill=\"#000000\">samples = 10</text>\n",
       "<text text-anchor=\"middle\" x=\"404\" y=\"-624.3\" font-family=\"Times,serif\" font-size=\"14.00\" fill=\"#000000\">value = [0, 10]</text>\n",
       "</g>\n",
       "<!-- 1&#45;&gt;19 -->\n",
       "<g id=\"edge19\" class=\"edge\">\n",
       "<title>1&#45;&gt;19</title>\n",
       "<path fill=\"none\" stroke=\"#000000\" d=\"M402.6549,-712.9465C402.8603,-702.2621 403.088,-690.4254 403.2966,-679.5742\"/>\n",
       "<polygon fill=\"#000000\" stroke=\"#000000\" points=\"406.7966,-679.6076 403.4896,-669.5422 399.7979,-679.473 406.7966,-679.6076\"/>\n",
       "</g>\n",
       "<!-- 3 -->\n",
       "<g id=\"node4\" class=\"node\">\n",
       "<title>3</title>\n",
       "<polygon fill=\"none\" stroke=\"#000000\" points=\"202.5,-573 95.5,-573 95.5,-505 202.5,-505 202.5,-573\"/>\n",
       "<text text-anchor=\"middle\" x=\"149\" y=\"-557.8\" font-family=\"Times,serif\" font-size=\"14.00\" fill=\"#000000\">Close &lt;= &#45;1.585</text>\n",
       "<text text-anchor=\"middle\" x=\"149\" y=\"-542.8\" font-family=\"Times,serif\" font-size=\"14.00\" fill=\"#000000\">gini = 0.32</text>\n",
       "<text text-anchor=\"middle\" x=\"149\" y=\"-527.8\" font-family=\"Times,serif\" font-size=\"14.00\" fill=\"#000000\">samples = 10</text>\n",
       "<text text-anchor=\"middle\" x=\"149\" y=\"-512.8\" font-family=\"Times,serif\" font-size=\"14.00\" fill=\"#000000\">value = [2, 8]</text>\n",
       "</g>\n",
       "<!-- 2&#45;&gt;3 -->\n",
       "<g id=\"edge3\" class=\"edge\">\n",
       "<title>2&#45;&gt;3</title>\n",
       "<path fill=\"none\" stroke=\"#000000\" d=\"M239.1234,-608.9465C226.9765,-599.519 213.6738,-589.1946 201.1073,-579.4415\"/>\n",
       "<polygon fill=\"#000000\" stroke=\"#000000\" points=\"203.021,-576.4963 192.9752,-573.13 198.7291,-582.0262 203.021,-576.4963\"/>\n",
       "</g>\n",
       "<!-- 6 -->\n",
       "<g id=\"node7\" class=\"node\">\n",
       "<title>6</title>\n",
       "<polygon fill=\"none\" stroke=\"#000000\" points=\"353,-573 221,-573 221,-505 353,-505 353,-573\"/>\n",
       "<text text-anchor=\"middle\" x=\"287\" y=\"-557.8\" font-family=\"Times,serif\" font-size=\"14.00\" fill=\"#000000\">Adj Close &lt;= &#45;0.974</text>\n",
       "<text text-anchor=\"middle\" x=\"287\" y=\"-542.8\" font-family=\"Times,serif\" font-size=\"14.00\" fill=\"#000000\">gini = 0.422</text>\n",
       "<text text-anchor=\"middle\" x=\"287\" y=\"-527.8\" font-family=\"Times,serif\" font-size=\"14.00\" fill=\"#000000\">samples = 33</text>\n",
       "<text text-anchor=\"middle\" x=\"287\" y=\"-512.8\" font-family=\"Times,serif\" font-size=\"14.00\" fill=\"#000000\">value = [23, 10]</text>\n",
       "</g>\n",
       "<!-- 2&#45;&gt;6 -->\n",
       "<g id=\"edge6\" class=\"edge\">\n",
       "<title>2&#45;&gt;6</title>\n",
       "<path fill=\"none\" stroke=\"#000000\" d=\"M284.3097,-608.9465C284.624,-600.776 284.9642,-591.9318 285.2935,-583.3697\"/>\n",
       "<polygon fill=\"#000000\" stroke=\"#000000\" points=\"288.8003,-583.2572 285.6873,-573.13 281.8055,-582.9881 288.8003,-583.2572\"/>\n",
       "</g>\n",
       "<!-- 4 -->\n",
       "<g id=\"node5\" class=\"node\">\n",
       "<title>4</title>\n",
       "<polygon fill=\"none\" stroke=\"#000000\" points=\"92,-461.5 0,-461.5 0,-408.5 92,-408.5 92,-461.5\"/>\n",
       "<text text-anchor=\"middle\" x=\"46\" y=\"-446.3\" font-family=\"Times,serif\" font-size=\"14.00\" fill=\"#000000\">gini = 0.0</text>\n",
       "<text text-anchor=\"middle\" x=\"46\" y=\"-431.3\" font-family=\"Times,serif\" font-size=\"14.00\" fill=\"#000000\">samples = 2</text>\n",
       "<text text-anchor=\"middle\" x=\"46\" y=\"-416.3\" font-family=\"Times,serif\" font-size=\"14.00\" fill=\"#000000\">value = [2, 0]</text>\n",
       "</g>\n",
       "<!-- 3&#45;&gt;4 -->\n",
       "<g id=\"edge4\" class=\"edge\">\n",
       "<title>3&#45;&gt;4</title>\n",
       "<path fill=\"none\" stroke=\"#000000\" d=\"M115.2739,-504.9465C103.8195,-493.3809 91.028,-480.4652 79.5846,-468.9107\"/>\n",
       "<polygon fill=\"#000000\" stroke=\"#000000\" points=\"81.8106,-466.1844 72.287,-461.5422 76.837,-471.1102 81.8106,-466.1844\"/>\n",
       "</g>\n",
       "<!-- 5 -->\n",
       "<g id=\"node6\" class=\"node\">\n",
       "<title>5</title>\n",
       "<polygon fill=\"none\" stroke=\"#000000\" points=\"202,-461.5 110,-461.5 110,-408.5 202,-408.5 202,-461.5\"/>\n",
       "<text text-anchor=\"middle\" x=\"156\" y=\"-446.3\" font-family=\"Times,serif\" font-size=\"14.00\" fill=\"#000000\">gini = 0.0</text>\n",
       "<text text-anchor=\"middle\" x=\"156\" y=\"-431.3\" font-family=\"Times,serif\" font-size=\"14.00\" fill=\"#000000\">samples = 8</text>\n",
       "<text text-anchor=\"middle\" x=\"156\" y=\"-416.3\" font-family=\"Times,serif\" font-size=\"14.00\" fill=\"#000000\">value = [0, 8]</text>\n",
       "</g>\n",
       "<!-- 3&#45;&gt;5 -->\n",
       "<g id=\"edge5\" class=\"edge\">\n",
       "<title>3&#45;&gt;5</title>\n",
       "<path fill=\"none\" stroke=\"#000000\" d=\"M151.2921,-504.9465C152.0112,-494.2621 152.8079,-482.4254 153.5383,-471.5742\"/>\n",
       "<polygon fill=\"#000000\" stroke=\"#000000\" points=\"157.034,-471.7547 154.2135,-461.5422 150.0498,-471.2845 157.034,-471.7547\"/>\n",
       "</g>\n",
       "<!-- 7 -->\n",
       "<g id=\"node8\" class=\"node\">\n",
       "<title>7</title>\n",
       "<polygon fill=\"none\" stroke=\"#000000\" points=\"326,-461.5 234,-461.5 234,-408.5 326,-408.5 326,-461.5\"/>\n",
       "<text text-anchor=\"middle\" x=\"280\" y=\"-446.3\" font-family=\"Times,serif\" font-size=\"14.00\" fill=\"#000000\">gini = 0.0</text>\n",
       "<text text-anchor=\"middle\" x=\"280\" y=\"-431.3\" font-family=\"Times,serif\" font-size=\"14.00\" fill=\"#000000\">samples = 8</text>\n",
       "<text text-anchor=\"middle\" x=\"280\" y=\"-416.3\" font-family=\"Times,serif\" font-size=\"14.00\" fill=\"#000000\">value = [8, 0]</text>\n",
       "</g>\n",
       "<!-- 6&#45;&gt;7 -->\n",
       "<g id=\"edge7\" class=\"edge\">\n",
       "<title>6&#45;&gt;7</title>\n",
       "<path fill=\"none\" stroke=\"#000000\" d=\"M284.7079,-504.9465C283.9888,-494.2621 283.1921,-482.4254 282.4617,-471.5742\"/>\n",
       "<polygon fill=\"#000000\" stroke=\"#000000\" points=\"285.9502,-471.2845 281.7865,-461.5422 278.966,-471.7547 285.9502,-471.2845\"/>\n",
       "</g>\n",
       "<!-- 8 -->\n",
       "<g id=\"node9\" class=\"node\">\n",
       "<title>8</title>\n",
       "<polygon fill=\"none\" stroke=\"#000000\" points=\"450,-469 344,-469 344,-401 450,-401 450,-469\"/>\n",
       "<text text-anchor=\"middle\" x=\"397\" y=\"-453.8\" font-family=\"Times,serif\" font-size=\"14.00\" fill=\"#000000\">Low &lt;= &#45;0.56</text>\n",
       "<text text-anchor=\"middle\" x=\"397\" y=\"-438.8\" font-family=\"Times,serif\" font-size=\"14.00\" fill=\"#000000\">gini = 0.48</text>\n",
       "<text text-anchor=\"middle\" x=\"397\" y=\"-423.8\" font-family=\"Times,serif\" font-size=\"14.00\" fill=\"#000000\">samples = 25</text>\n",
       "<text text-anchor=\"middle\" x=\"397\" y=\"-408.8\" font-family=\"Times,serif\" font-size=\"14.00\" fill=\"#000000\">value = [15, 10]</text>\n",
       "</g>\n",
       "<!-- 6&#45;&gt;8 -->\n",
       "<g id=\"edge8\" class=\"edge\">\n",
       "<title>6&#45;&gt;8</title>\n",
       "<path fill=\"none\" stroke=\"#000000\" d=\"M323.0181,-504.9465C332.7046,-495.7884 343.2864,-485.7838 353.3397,-476.2788\"/>\n",
       "<polygon fill=\"#000000\" stroke=\"#000000\" points=\"356.039,-478.5434 360.901,-469.13 351.2299,-473.4569 356.039,-478.5434\"/>\n",
       "</g>\n",
       "<!-- 9 -->\n",
       "<g id=\"node10\" class=\"node\">\n",
       "<title>9</title>\n",
       "<polygon fill=\"none\" stroke=\"#000000\" points=\"380,-357.5 288,-357.5 288,-304.5 380,-304.5 380,-357.5\"/>\n",
       "<text text-anchor=\"middle\" x=\"334\" y=\"-342.3\" font-family=\"Times,serif\" font-size=\"14.00\" fill=\"#000000\">gini = 0.0</text>\n",
       "<text text-anchor=\"middle\" x=\"334\" y=\"-327.3\" font-family=\"Times,serif\" font-size=\"14.00\" fill=\"#000000\">samples = 5</text>\n",
       "<text text-anchor=\"middle\" x=\"334\" y=\"-312.3\" font-family=\"Times,serif\" font-size=\"14.00\" fill=\"#000000\">value = [0, 5]</text>\n",
       "</g>\n",
       "<!-- 8&#45;&gt;9 -->\n",
       "<g id=\"edge9\" class=\"edge\">\n",
       "<title>8&#45;&gt;9</title>\n",
       "<path fill=\"none\" stroke=\"#000000\" d=\"M376.3714,-400.9465C369.6322,-389.8215 362.1363,-377.4473 355.3455,-366.237\"/>\n",
       "<polygon fill=\"#000000\" stroke=\"#000000\" points=\"358.2533,-364.2818 350.0784,-357.5422 352.2661,-367.9087 358.2533,-364.2818\"/>\n",
       "</g>\n",
       "<!-- 10 -->\n",
       "<g id=\"node11\" class=\"node\">\n",
       "<title>10</title>\n",
       "<polygon fill=\"none\" stroke=\"#000000\" points=\"519.5,-365 398.5,-365 398.5,-297 519.5,-297 519.5,-365\"/>\n",
       "<text text-anchor=\"middle\" x=\"459\" y=\"-349.8\" font-family=\"Times,serif\" font-size=\"14.00\" fill=\"#000000\">Volume &lt;= &#45;0.227</text>\n",
       "<text text-anchor=\"middle\" x=\"459\" y=\"-334.8\" font-family=\"Times,serif\" font-size=\"14.00\" fill=\"#000000\">gini = 0.375</text>\n",
       "<text text-anchor=\"middle\" x=\"459\" y=\"-319.8\" font-family=\"Times,serif\" font-size=\"14.00\" fill=\"#000000\">samples = 20</text>\n",
       "<text text-anchor=\"middle\" x=\"459\" y=\"-304.8\" font-family=\"Times,serif\" font-size=\"14.00\" fill=\"#000000\">value = [15, 5]</text>\n",
       "</g>\n",
       "<!-- 8&#45;&gt;10 -->\n",
       "<g id=\"edge10\" class=\"edge\">\n",
       "<title>8&#45;&gt;10</title>\n",
       "<path fill=\"none\" stroke=\"#000000\" d=\"M417.3011,-400.9465C422.4396,-392.3271 428.0251,-382.9579 433.3886,-373.9611\"/>\n",
       "<polygon fill=\"#000000\" stroke=\"#000000\" points=\"436.5389,-375.5117 438.6533,-365.13 430.5263,-371.9272 436.5389,-375.5117\"/>\n",
       "</g>\n",
       "<!-- 11 -->\n",
       "<g id=\"node12\" class=\"node\">\n",
       "<title>11</title>\n",
       "<polygon fill=\"none\" stroke=\"#000000\" points=\"451,-261 355,-261 355,-193 451,-193 451,-261\"/>\n",
       "<text text-anchor=\"middle\" x=\"403\" y=\"-245.8\" font-family=\"Times,serif\" font-size=\"14.00\" fill=\"#000000\">Low &lt;= 0.002</text>\n",
       "<text text-anchor=\"middle\" x=\"403\" y=\"-230.8\" font-family=\"Times,serif\" font-size=\"14.00\" fill=\"#000000\">gini = 0.496</text>\n",
       "<text text-anchor=\"middle\" x=\"403\" y=\"-215.8\" font-family=\"Times,serif\" font-size=\"14.00\" fill=\"#000000\">samples = 11</text>\n",
       "<text text-anchor=\"middle\" x=\"403\" y=\"-200.8\" font-family=\"Times,serif\" font-size=\"14.00\" fill=\"#000000\">value = [6, 5]</text>\n",
       "</g>\n",
       "<!-- 10&#45;&gt;11 -->\n",
       "<g id=\"edge11\" class=\"edge\">\n",
       "<title>10&#45;&gt;11</title>\n",
       "<path fill=\"none\" stroke=\"#000000\" d=\"M440.6635,-296.9465C436.0223,-288.3271 430.9773,-278.9579 426.1329,-269.9611\"/>\n",
       "<polygon fill=\"#000000\" stroke=\"#000000\" points=\"429.2004,-268.2754 421.3777,-261.13 423.0371,-271.5941 429.2004,-268.2754\"/>\n",
       "</g>\n",
       "<!-- 18 -->\n",
       "<g id=\"node19\" class=\"node\">\n",
       "<title>18</title>\n",
       "<polygon fill=\"none\" stroke=\"#000000\" points=\"561,-253.5 469,-253.5 469,-200.5 561,-200.5 561,-253.5\"/>\n",
       "<text text-anchor=\"middle\" x=\"515\" y=\"-238.3\" font-family=\"Times,serif\" font-size=\"14.00\" fill=\"#000000\">gini = 0.0</text>\n",
       "<text text-anchor=\"middle\" x=\"515\" y=\"-223.3\" font-family=\"Times,serif\" font-size=\"14.00\" fill=\"#000000\">samples = 9</text>\n",
       "<text text-anchor=\"middle\" x=\"515\" y=\"-208.3\" font-family=\"Times,serif\" font-size=\"14.00\" fill=\"#000000\">value = [9, 0]</text>\n",
       "</g>\n",
       "<!-- 10&#45;&gt;18 -->\n",
       "<g id=\"edge18\" class=\"edge\">\n",
       "<title>10&#45;&gt;18</title>\n",
       "<path fill=\"none\" stroke=\"#000000\" d=\"M477.3365,-296.9465C483.2676,-285.9316 489.8581,-273.6922 495.8468,-262.5703\"/>\n",
       "<polygon fill=\"#000000\" stroke=\"#000000\" points=\"499.0487,-264.0063 500.7081,-253.5422 492.8854,-260.6875 499.0487,-264.0063\"/>\n",
       "</g>\n",
       "<!-- 12 -->\n",
       "<g id=\"node13\" class=\"node\">\n",
       "<title>12</title>\n",
       "<polygon fill=\"none\" stroke=\"#000000\" points=\"388,-157 292,-157 292,-89 388,-89 388,-157\"/>\n",
       "<text text-anchor=\"middle\" x=\"340\" y=\"-141.8\" font-family=\"Times,serif\" font-size=\"14.00\" fill=\"#000000\">High &lt;= &#45;0.56</text>\n",
       "<text text-anchor=\"middle\" x=\"340\" y=\"-126.8\" font-family=\"Times,serif\" font-size=\"14.00\" fill=\"#000000\">gini = 0.32</text>\n",
       "<text text-anchor=\"middle\" x=\"340\" y=\"-111.8\" font-family=\"Times,serif\" font-size=\"14.00\" fill=\"#000000\">samples = 5</text>\n",
       "<text text-anchor=\"middle\" x=\"340\" y=\"-96.8\" font-family=\"Times,serif\" font-size=\"14.00\" fill=\"#000000\">value = [1, 4]</text>\n",
       "</g>\n",
       "<!-- 11&#45;&gt;12 -->\n",
       "<g id=\"edge12\" class=\"edge\">\n",
       "<title>11&#45;&gt;12</title>\n",
       "<path fill=\"none\" stroke=\"#000000\" d=\"M382.3714,-192.9465C377.1501,-184.3271 371.4745,-174.9579 366.0245,-165.9611\"/>\n",
       "<polygon fill=\"#000000\" stroke=\"#000000\" points=\"368.8497,-163.8697 360.6749,-157.13 362.8626,-167.4965 368.8497,-163.8697\"/>\n",
       "</g>\n",
       "<!-- 15 -->\n",
       "<g id=\"node16\" class=\"node\">\n",
       "<title>15</title>\n",
       "<polygon fill=\"none\" stroke=\"#000000\" points=\"527.5,-157 406.5,-157 406.5,-89 527.5,-89 527.5,-157\"/>\n",
       "<text text-anchor=\"middle\" x=\"467\" y=\"-141.8\" font-family=\"Times,serif\" font-size=\"14.00\" fill=\"#000000\">Volume &lt;= &#45;0.328</text>\n",
       "<text text-anchor=\"middle\" x=\"467\" y=\"-126.8\" font-family=\"Times,serif\" font-size=\"14.00\" fill=\"#000000\">gini = 0.278</text>\n",
       "<text text-anchor=\"middle\" x=\"467\" y=\"-111.8\" font-family=\"Times,serif\" font-size=\"14.00\" fill=\"#000000\">samples = 6</text>\n",
       "<text text-anchor=\"middle\" x=\"467\" y=\"-96.8\" font-family=\"Times,serif\" font-size=\"14.00\" fill=\"#000000\">value = [5, 1]</text>\n",
       "</g>\n",
       "<!-- 11&#45;&gt;15 -->\n",
       "<g id=\"edge15\" class=\"edge\">\n",
       "<title>11&#45;&gt;15</title>\n",
       "<path fill=\"none\" stroke=\"#000000\" d=\"M423.956,-192.9465C429.3155,-184.2373 435.1461,-174.7626 440.7353,-165.6801\"/>\n",
       "<polygon fill=\"#000000\" stroke=\"#000000\" points=\"443.7367,-167.481 445.9969,-157.13 437.7751,-163.8122 443.7367,-167.481\"/>\n",
       "</g>\n",
       "<!-- 13 -->\n",
       "<g id=\"node14\" class=\"node\">\n",
       "<title>13</title>\n",
       "<polygon fill=\"none\" stroke=\"#000000\" points=\"281,-53 189,-53 189,0 281,0 281,-53\"/>\n",
       "<text text-anchor=\"middle\" x=\"235\" y=\"-37.8\" font-family=\"Times,serif\" font-size=\"14.00\" fill=\"#000000\">gini = 0.0</text>\n",
       "<text text-anchor=\"middle\" x=\"235\" y=\"-22.8\" font-family=\"Times,serif\" font-size=\"14.00\" fill=\"#000000\">samples = 1</text>\n",
       "<text text-anchor=\"middle\" x=\"235\" y=\"-7.8\" font-family=\"Times,serif\" font-size=\"14.00\" fill=\"#000000\">value = [1, 0]</text>\n",
       "</g>\n",
       "<!-- 12&#45;&gt;13 -->\n",
       "<g id=\"edge13\" class=\"edge\">\n",
       "<title>12&#45;&gt;13</title>\n",
       "<path fill=\"none\" stroke=\"#000000\" d=\"M302.9809,-88.9777C292.8181,-79.6376 281.8053,-69.5163 271.6626,-60.1947\"/>\n",
       "<polygon fill=\"#000000\" stroke=\"#000000\" points=\"273.8358,-57.4383 264.1046,-53.2485 269.099,-62.5923 273.8358,-57.4383\"/>\n",
       "</g>\n",
       "<!-- 14 -->\n",
       "<g id=\"node15\" class=\"node\">\n",
       "<title>14</title>\n",
       "<polygon fill=\"none\" stroke=\"#000000\" points=\"391,-53 299,-53 299,0 391,0 391,-53\"/>\n",
       "<text text-anchor=\"middle\" x=\"345\" y=\"-37.8\" font-family=\"Times,serif\" font-size=\"14.00\" fill=\"#000000\">gini = 0.0</text>\n",
       "<text text-anchor=\"middle\" x=\"345\" y=\"-22.8\" font-family=\"Times,serif\" font-size=\"14.00\" fill=\"#000000\">samples = 4</text>\n",
       "<text text-anchor=\"middle\" x=\"345\" y=\"-7.8\" font-family=\"Times,serif\" font-size=\"14.00\" fill=\"#000000\">value = [0, 4]</text>\n",
       "</g>\n",
       "<!-- 12&#45;&gt;14 -->\n",
       "<g id=\"edge14\" class=\"edge\">\n",
       "<title>12&#45;&gt;14</title>\n",
       "<path fill=\"none\" stroke=\"#000000\" d=\"M341.7628,-88.9777C342.1946,-80.6449 342.6585,-71.6903 343.0966,-63.2364\"/>\n",
       "<polygon fill=\"#000000\" stroke=\"#000000\" points=\"346.5918,-63.4162 343.6141,-53.2485 339.6012,-63.0539 346.5918,-63.4162\"/>\n",
       "</g>\n",
       "<!-- 16 -->\n",
       "<g id=\"node17\" class=\"node\">\n",
       "<title>16</title>\n",
       "<polygon fill=\"none\" stroke=\"#000000\" points=\"509,-53 417,-53 417,0 509,0 509,-53\"/>\n",
       "<text text-anchor=\"middle\" x=\"463\" y=\"-37.8\" font-family=\"Times,serif\" font-size=\"14.00\" fill=\"#000000\">gini = 0.0</text>\n",
       "<text text-anchor=\"middle\" x=\"463\" y=\"-22.8\" font-family=\"Times,serif\" font-size=\"14.00\" fill=\"#000000\">samples = 5</text>\n",
       "<text text-anchor=\"middle\" x=\"463\" y=\"-7.8\" font-family=\"Times,serif\" font-size=\"14.00\" fill=\"#000000\">value = [5, 0]</text>\n",
       "</g>\n",
       "<!-- 15&#45;&gt;16 -->\n",
       "<g id=\"edge16\" class=\"edge\">\n",
       "<title>15&#45;&gt;16</title>\n",
       "<path fill=\"none\" stroke=\"#000000\" d=\"M465.5897,-88.9777C465.2481,-80.7364 464.8813,-71.887 464.5343,-63.5153\"/>\n",
       "<polygon fill=\"#000000\" stroke=\"#000000\" points=\"468.02,-63.0949 464.1087,-53.2485 461.026,-63.3849 468.02,-63.0949\"/>\n",
       "</g>\n",
       "<!-- 17 -->\n",
       "<g id=\"node18\" class=\"node\">\n",
       "<title>17</title>\n",
       "<polygon fill=\"none\" stroke=\"#000000\" points=\"619,-53 527,-53 527,0 619,0 619,-53\"/>\n",
       "<text text-anchor=\"middle\" x=\"573\" y=\"-37.8\" font-family=\"Times,serif\" font-size=\"14.00\" fill=\"#000000\">gini = 0.0</text>\n",
       "<text text-anchor=\"middle\" x=\"573\" y=\"-22.8\" font-family=\"Times,serif\" font-size=\"14.00\" fill=\"#000000\">samples = 1</text>\n",
       "<text text-anchor=\"middle\" x=\"573\" y=\"-7.8\" font-family=\"Times,serif\" font-size=\"14.00\" fill=\"#000000\">value = [0, 1]</text>\n",
       "</g>\n",
       "<!-- 15&#45;&gt;17 -->\n",
       "<g id=\"edge17\" class=\"edge\">\n",
       "<title>15&#45;&gt;17</title>\n",
       "<path fill=\"none\" stroke=\"#000000\" d=\"M504.3716,-88.9777C514.6312,-79.6376 525.7489,-69.5163 535.9882,-60.1947\"/>\n",
       "<polygon fill=\"#000000\" stroke=\"#000000\" points=\"538.5798,-62.5686 543.6183,-53.2485 533.8674,-57.3923 538.5798,-62.5686\"/>\n",
       "</g>\n",
       "<!-- 21 -->\n",
       "<g id=\"node22\" class=\"node\">\n",
       "<title>21</title>\n",
       "<polygon fill=\"none\" stroke=\"#000000\" points=\"595.5,-677 474.5,-677 474.5,-609 595.5,-609 595.5,-677\"/>\n",
       "<text text-anchor=\"middle\" x=\"535\" y=\"-661.8\" font-family=\"Times,serif\" font-size=\"14.00\" fill=\"#000000\">Volume &lt;= &#45;1.438</text>\n",
       "<text text-anchor=\"middle\" x=\"535\" y=\"-646.8\" font-family=\"Times,serif\" font-size=\"14.00\" fill=\"#000000\">gini = 0.133</text>\n",
       "<text text-anchor=\"middle\" x=\"535\" y=\"-631.8\" font-family=\"Times,serif\" font-size=\"14.00\" fill=\"#000000\">samples = 14</text>\n",
       "<text text-anchor=\"middle\" x=\"535\" y=\"-616.8\" font-family=\"Times,serif\" font-size=\"14.00\" fill=\"#000000\">value = [13, 1]</text>\n",
       "</g>\n",
       "<!-- 20&#45;&gt;21 -->\n",
       "<g id=\"edge21\" class=\"edge\">\n",
       "<title>20&#45;&gt;21</title>\n",
       "<path fill=\"none\" stroke=\"#000000\" d=\"M536.3451,-712.9465C536.188,-704.776 536.0179,-695.9318 535.8533,-687.3697\"/>\n",
       "<polygon fill=\"#000000\" stroke=\"#000000\" points=\"539.3481,-687.0608 535.6563,-677.13 532.3494,-687.1955 539.3481,-687.0608\"/>\n",
       "</g>\n",
       "<!-- 24 -->\n",
       "<g id=\"node25\" class=\"node\">\n",
       "<title>24</title>\n",
       "<polygon fill=\"none\" stroke=\"#000000\" points=\"730,-677 614,-677 614,-609 730,-609 730,-677\"/>\n",
       "<text text-anchor=\"middle\" x=\"672\" y=\"-661.8\" font-family=\"Times,serif\" font-size=\"14.00\" fill=\"#000000\">Volume &lt;= 1.021</text>\n",
       "<text text-anchor=\"middle\" x=\"672\" y=\"-646.8\" font-family=\"Times,serif\" font-size=\"14.00\" fill=\"#000000\">gini = 0.444</text>\n",
       "<text text-anchor=\"middle\" x=\"672\" y=\"-631.8\" font-family=\"Times,serif\" font-size=\"14.00\" fill=\"#000000\">samples = 3</text>\n",
       "<text text-anchor=\"middle\" x=\"672\" y=\"-616.8\" font-family=\"Times,serif\" font-size=\"14.00\" fill=\"#000000\">value = [1, 2]</text>\n",
       "</g>\n",
       "<!-- 20&#45;&gt;24 -->\n",
       "<g id=\"edge24\" class=\"edge\">\n",
       "<title>20&#45;&gt;24</title>\n",
       "<path fill=\"none\" stroke=\"#000000\" d=\"M581.204,-712.9465C593.4416,-703.519 606.8436,-693.1946 619.5038,-683.4415\"/>\n",
       "<polygon fill=\"#000000\" stroke=\"#000000\" points=\"621.9107,-686.0055 627.6966,-677.13 617.6388,-680.4601 621.9107,-686.0055\"/>\n",
       "</g>\n",
       "<!-- 22 -->\n",
       "<g id=\"node23\" class=\"node\">\n",
       "<title>22</title>\n",
       "<polygon fill=\"none\" stroke=\"#000000\" points=\"478,-565.5 386,-565.5 386,-512.5 478,-512.5 478,-565.5\"/>\n",
       "<text text-anchor=\"middle\" x=\"432\" y=\"-550.3\" font-family=\"Times,serif\" font-size=\"14.00\" fill=\"#000000\">gini = 0.0</text>\n",
       "<text text-anchor=\"middle\" x=\"432\" y=\"-535.3\" font-family=\"Times,serif\" font-size=\"14.00\" fill=\"#000000\">samples = 1</text>\n",
       "<text text-anchor=\"middle\" x=\"432\" y=\"-520.3\" font-family=\"Times,serif\" font-size=\"14.00\" fill=\"#000000\">value = [0, 1]</text>\n",
       "</g>\n",
       "<!-- 21&#45;&gt;22 -->\n",
       "<g id=\"edge22\" class=\"edge\">\n",
       "<title>21&#45;&gt;22</title>\n",
       "<path fill=\"none\" stroke=\"#000000\" d=\"M501.2739,-608.9465C489.8195,-597.3809 477.028,-584.4652 465.5846,-572.9107\"/>\n",
       "<polygon fill=\"#000000\" stroke=\"#000000\" points=\"467.8106,-570.1844 458.287,-565.5422 462.837,-575.1102 467.8106,-570.1844\"/>\n",
       "</g>\n",
       "<!-- 23 -->\n",
       "<g id=\"node24\" class=\"node\">\n",
       "<title>23</title>\n",
       "<polygon fill=\"none\" stroke=\"#000000\" points=\"595.5,-565.5 496.5,-565.5 496.5,-512.5 595.5,-512.5 595.5,-565.5\"/>\n",
       "<text text-anchor=\"middle\" x=\"546\" y=\"-550.3\" font-family=\"Times,serif\" font-size=\"14.00\" fill=\"#000000\">gini = 0.0</text>\n",
       "<text text-anchor=\"middle\" x=\"546\" y=\"-535.3\" font-family=\"Times,serif\" font-size=\"14.00\" fill=\"#000000\">samples = 13</text>\n",
       "<text text-anchor=\"middle\" x=\"546\" y=\"-520.3\" font-family=\"Times,serif\" font-size=\"14.00\" fill=\"#000000\">value = [13, 0]</text>\n",
       "</g>\n",
       "<!-- 21&#45;&gt;23 -->\n",
       "<g id=\"edge23\" class=\"edge\">\n",
       "<title>21&#45;&gt;23</title>\n",
       "<path fill=\"none\" stroke=\"#000000\" d=\"M538.6018,-608.9465C539.7319,-598.2621 540.9838,-586.4254 542.1316,-575.5742\"/>\n",
       "<polygon fill=\"#000000\" stroke=\"#000000\" points=\"545.6213,-575.8549 543.1927,-565.5422 538.6602,-575.1185 545.6213,-575.8549\"/>\n",
       "</g>\n",
       "<!-- 25 -->\n",
       "<g id=\"node26\" class=\"node\">\n",
       "<title>25</title>\n",
       "<polygon fill=\"none\" stroke=\"#000000\" points=\"714,-565.5 622,-565.5 622,-512.5 714,-512.5 714,-565.5\"/>\n",
       "<text text-anchor=\"middle\" x=\"668\" y=\"-550.3\" font-family=\"Times,serif\" font-size=\"14.00\" fill=\"#000000\">gini = 0.0</text>\n",
       "<text text-anchor=\"middle\" x=\"668\" y=\"-535.3\" font-family=\"Times,serif\" font-size=\"14.00\" fill=\"#000000\">samples = 2</text>\n",
       "<text text-anchor=\"middle\" x=\"668\" y=\"-520.3\" font-family=\"Times,serif\" font-size=\"14.00\" fill=\"#000000\">value = [0, 2]</text>\n",
       "</g>\n",
       "<!-- 24&#45;&gt;25 -->\n",
       "<g id=\"edge25\" class=\"edge\">\n",
       "<title>24&#45;&gt;25</title>\n",
       "<path fill=\"none\" stroke=\"#000000\" d=\"M670.6903,-608.9465C670.2793,-598.2621 669.8241,-586.4254 669.4067,-575.5742\"/>\n",
       "<polygon fill=\"#000000\" stroke=\"#000000\" points=\"672.9027,-575.4002 669.0209,-565.5422 665.9079,-575.6693 672.9027,-575.4002\"/>\n",
       "</g>\n",
       "<!-- 26 -->\n",
       "<g id=\"node27\" class=\"node\">\n",
       "<title>26</title>\n",
       "<polygon fill=\"none\" stroke=\"#000000\" points=\"824,-565.5 732,-565.5 732,-512.5 824,-512.5 824,-565.5\"/>\n",
       "<text text-anchor=\"middle\" x=\"778\" y=\"-550.3\" font-family=\"Times,serif\" font-size=\"14.00\" fill=\"#000000\">gini = 0.0</text>\n",
       "<text text-anchor=\"middle\" x=\"778\" y=\"-535.3\" font-family=\"Times,serif\" font-size=\"14.00\" fill=\"#000000\">samples = 1</text>\n",
       "<text text-anchor=\"middle\" x=\"778\" y=\"-520.3\" font-family=\"Times,serif\" font-size=\"14.00\" fill=\"#000000\">value = [1, 0]</text>\n",
       "</g>\n",
       "<!-- 24&#45;&gt;26 -->\n",
       "<g id=\"edge26\" class=\"edge\">\n",
       "<title>24&#45;&gt;26</title>\n",
       "<path fill=\"none\" stroke=\"#000000\" d=\"M706.7084,-608.9465C718.6087,-597.2707 731.9114,-584.219 743.7733,-572.5809\"/>\n",
       "<polygon fill=\"#000000\" stroke=\"#000000\" points=\"746.2605,-575.0439 750.9474,-565.5422 741.3581,-570.0473 746.2605,-575.0439\"/>\n",
       "</g>\n",
       "</g>\n",
       "</svg>\n"
      ],
      "text/plain": [
       "<graphviz.files.Source at 0x7ff710866ee0>"
      ]
     },
     "execution_count": 22,
     "metadata": {},
     "output_type": "execute_result"
    }
   ],
   "source": [
    "import graphviz\n",
    "graphviz.Source(tree_dot)"
   ]
  },
  {
   "cell_type": "markdown",
   "id": "50213105",
   "metadata": {},
   "source": [
    "### Use GridSearch to find the best parameters"
   ]
  },
  {
   "cell_type": "code",
   "execution_count": 23,
   "id": "6ec340d4",
   "metadata": {},
   "outputs": [
    {
     "data": {
      "text/plain": [
       "GridSearchCV(cv=10, estimator=DecisionTreeClassifier(random_state=0),\n",
       "             param_grid={'max_leaf_nodes': range(2, 20)},\n",
       "             return_train_score=True)"
      ]
     },
     "execution_count": 23,
     "metadata": {},
     "output_type": "execute_result"
    }
   ],
   "source": [
    "#Use GridSearchCV \n",
    "\n",
    "from sklearn.model_selection import GridSearchCV\n",
    "param_grid={'max_leaf_nodes': range(2,20)}\n",
    "grid = GridSearchCV(DecisionTreeClassifier(random_state=0), param_grid=param_grid, cv=10,return_train_score=True)\n",
    "grid.fit(X_train, y_train)"
   ]
  },
  {
   "cell_type": "code",
   "execution_count": 24,
   "id": "2538d375",
   "metadata": {},
   "outputs": [
    {
     "data": {
      "text/plain": [
       "0.6333333333333333"
      ]
     },
     "execution_count": 24,
     "metadata": {},
     "output_type": "execute_result"
    }
   ],
   "source": [
    "# Model Score\n",
    "grid.score(X_test, y_test)"
   ]
  },
  {
   "cell_type": "code",
   "execution_count": 25,
   "id": "0631ae27",
   "metadata": {},
   "outputs": [
    {
     "data": {
      "text/plain": [
       "DecisionTreeClassifier(max_leaf_nodes=13, random_state=0)"
      ]
     },
     "execution_count": 25,
     "metadata": {},
     "output_type": "execute_result"
    }
   ],
   "source": [
    "best_tree = grid.best_estimator_\n",
    "best_tree"
   ]
  },
  {
   "cell_type": "code",
   "execution_count": 26,
   "id": "ae966861",
   "metadata": {},
   "outputs": [
    {
     "data": {
      "text/plain": [
       "'digraph Tree {\\nnode [shape=box] ;\\n0 [label=\"High <= 0.777\\\\ngini = 0.493\\\\nsamples = 70\\\\nvalue = [39, 31]\"] ;\\n1 [label=\"Low <= 0.361\\\\ngini = 0.498\\\\nsamples = 53\\\\nvalue = [25, 28]\"] ;\\n0 -> 1 [labeldistance=2.5, labelangle=45, headlabel=\"True\"] ;\\n3 [label=\"High <= -1.295\\\\ngini = 0.487\\\\nsamples = 43\\\\nvalue = [25, 18]\"] ;\\n1 -> 3 ;\\n5 [label=\"Low <= -1.656\\\\ngini = 0.32\\\\nsamples = 10\\\\nvalue = [2, 8]\"] ;\\n3 -> 5 ;\\n7 [label=\"gini = 0.0\\\\nsamples = 2\\\\nvalue = [2, 0]\"] ;\\n5 -> 7 ;\\n8 [label=\"gini = 0.0\\\\nsamples = 8\\\\nvalue = [0, 8]\"] ;\\n5 -> 8 ;\\n6 [label=\"Volume <= -0.974\\\\ngini = 0.422\\\\nsamples = 33\\\\nvalue = [23, 10]\"] ;\\n3 -> 6 ;\\n9 [label=\"gini = 0.0\\\\nsamples = 8\\\\nvalue = [8, 0]\"] ;\\n6 -> 9 ;\\n10 [label=\"High <= -0.677\\\\ngini = 0.48\\\\nsamples = 25\\\\nvalue = [15, 10]\"] ;\\n6 -> 10 ;\\n11 [label=\"gini = 0.0\\\\nsamples = 5\\\\nvalue = [0, 5]\"] ;\\n10 -> 11 ;\\n12 [label=\"Close_Change <= -0.227\\\\ngini = 0.375\\\\nsamples = 20\\\\nvalue = [15, 5]\"] ;\\n10 -> 12 ;\\n13 [label=\"High <= -0.084\\\\ngini = 0.496\\\\nsamples = 11\\\\nvalue = [6, 5]\"] ;\\n12 -> 13 ;\\n15 [label=\"Low <= -0.56\\\\ngini = 0.32\\\\nsamples = 5\\\\nvalue = [1, 4]\"] ;\\n13 -> 15 ;\\n23 [label=\"gini = 0.0\\\\nsamples = 1\\\\nvalue = [1, 0]\"] ;\\n15 -> 23 ;\\n24 [label=\"gini = 0.0\\\\nsamples = 4\\\\nvalue = [0, 4]\"] ;\\n15 -> 24 ;\\n16 [label=\"Close_Change <= -0.342\\\\ngini = 0.278\\\\nsamples = 6\\\\nvalue = [5, 1]\"] ;\\n13 -> 16 ;\\n21 [label=\"gini = 0.0\\\\nsamples = 5\\\\nvalue = [5, 0]\"] ;\\n16 -> 21 ;\\n22 [label=\"gini = 0.0\\\\nsamples = 1\\\\nvalue = [0, 1]\"] ;\\n16 -> 22 ;\\n14 [label=\"gini = 0.0\\\\nsamples = 9\\\\nvalue = [9, 0]\"] ;\\n12 -> 14 ;\\n4 [label=\"gini = 0.0\\\\nsamples = 10\\\\nvalue = [0, 10]\"] ;\\n1 -> 4 ;\\n2 [label=\"Adj Close <= 1.358\\\\ngini = 0.291\\\\nsamples = 17\\\\nvalue = [14, 3]\"] ;\\n0 -> 2 [labeldistance=2.5, labelangle=-45, headlabel=\"False\"] ;\\n17 [label=\"Close_Change <= -1.438\\\\ngini = 0.133\\\\nsamples = 14\\\\nvalue = [13, 1]\"] ;\\n2 -> 17 ;\\n19 [label=\"gini = 0.0\\\\nsamples = 1\\\\nvalue = [0, 1]\"] ;\\n17 -> 19 ;\\n20 [label=\"gini = 0.0\\\\nsamples = 13\\\\nvalue = [13, 0]\"] ;\\n17 -> 20 ;\\n18 [label=\"gini = 0.444\\\\nsamples = 3\\\\nvalue = [1, 2]\"] ;\\n2 -> 18 ;\\n}'"
      ]
     },
     "execution_count": 26,
     "metadata": {},
     "output_type": "execute_result"
    }
   ],
   "source": [
    "best_tree_dot = export_graphviz(best_tree, out_file=None, feature_names=features[1:])\n",
    "best_tree_dot"
   ]
  },
  {
   "cell_type": "code",
   "execution_count": 27,
   "id": "a6def1c5",
   "metadata": {},
   "outputs": [
    {
     "data": {
      "image/svg+xml": [
       "<?xml version=\"1.0\" encoding=\"UTF-8\" standalone=\"no\"?>\n",
       "<!DOCTYPE svg PUBLIC \"-//W3C//DTD SVG 1.1//EN\"\n",
       " \"http://www.w3.org/Graphics/SVG/1.1/DTD/svg11.dtd\">\n",
       "<!-- Generated by graphviz version 2.40.1 (20161225.0304)\n",
       " -->\n",
       "<!-- Title: Tree Pages: 1 -->\n",
       "<svg width=\"665pt\" height=\"893pt\"\n",
       " viewBox=\"0.00 0.00 665.00 893.00\" xmlns=\"http://www.w3.org/2000/svg\" xmlns:xlink=\"http://www.w3.org/1999/xlink\">\n",
       "<g id=\"graph0\" class=\"graph\" transform=\"scale(1 1) rotate(0) translate(4 889)\">\n",
       "<title>Tree</title>\n",
       "<polygon fill=\"#ffffff\" stroke=\"transparent\" points=\"-4,4 -4,-889 661,-889 661,4 -4,4\"/>\n",
       "<!-- 0 -->\n",
       "<g id=\"node1\" class=\"node\">\n",
       "<title>0</title>\n",
       "<polygon fill=\"none\" stroke=\"#000000\" points=\"448,-885 342,-885 342,-817 448,-817 448,-885\"/>\n",
       "<text text-anchor=\"middle\" x=\"395\" y=\"-869.8\" font-family=\"Times,serif\" font-size=\"14.00\" fill=\"#000000\">High &lt;= 0.777</text>\n",
       "<text text-anchor=\"middle\" x=\"395\" y=\"-854.8\" font-family=\"Times,serif\" font-size=\"14.00\" fill=\"#000000\">gini = 0.493</text>\n",
       "<text text-anchor=\"middle\" x=\"395\" y=\"-839.8\" font-family=\"Times,serif\" font-size=\"14.00\" fill=\"#000000\">samples = 70</text>\n",
       "<text text-anchor=\"middle\" x=\"395\" y=\"-824.8\" font-family=\"Times,serif\" font-size=\"14.00\" fill=\"#000000\">value = [39, 31]</text>\n",
       "</g>\n",
       "<!-- 1 -->\n",
       "<g id=\"node2\" class=\"node\">\n",
       "<title>1</title>\n",
       "<polygon fill=\"none\" stroke=\"#000000\" points=\"375,-781 269,-781 269,-713 375,-713 375,-781\"/>\n",
       "<text text-anchor=\"middle\" x=\"322\" y=\"-765.8\" font-family=\"Times,serif\" font-size=\"14.00\" fill=\"#000000\">Low &lt;= 0.361</text>\n",
       "<text text-anchor=\"middle\" x=\"322\" y=\"-750.8\" font-family=\"Times,serif\" font-size=\"14.00\" fill=\"#000000\">gini = 0.498</text>\n",
       "<text text-anchor=\"middle\" x=\"322\" y=\"-735.8\" font-family=\"Times,serif\" font-size=\"14.00\" fill=\"#000000\">samples = 53</text>\n",
       "<text text-anchor=\"middle\" x=\"322\" y=\"-720.8\" font-family=\"Times,serif\" font-size=\"14.00\" fill=\"#000000\">value = [25, 28]</text>\n",
       "</g>\n",
       "<!-- 0&#45;&gt;1 -->\n",
       "<g id=\"edge1\" class=\"edge\">\n",
       "<title>0&#45;&gt;1</title>\n",
       "<path fill=\"none\" stroke=\"#000000\" d=\"M371.0971,-816.9465C364.9209,-808.1475 358.1962,-798.5672 351.761,-789.3993\"/>\n",
       "<polygon fill=\"#000000\" stroke=\"#000000\" points=\"354.5666,-787.3041 345.9566,-781.13 348.8371,-791.3258 354.5666,-787.3041\"/>\n",
       "<text text-anchor=\"middle\" x=\"341.6437\" y=\"-802.0552\" font-family=\"Times,serif\" font-size=\"14.00\" fill=\"#000000\">True</text>\n",
       "</g>\n",
       "<!-- 2 -->\n",
       "<g id=\"node21\" class=\"node\">\n",
       "<title>2</title>\n",
       "<polygon fill=\"none\" stroke=\"#000000\" points=\"531.5,-781 404.5,-781 404.5,-713 531.5,-713 531.5,-781\"/>\n",
       "<text text-anchor=\"middle\" x=\"468\" y=\"-765.8\" font-family=\"Times,serif\" font-size=\"14.00\" fill=\"#000000\">Adj Close &lt;= 1.358</text>\n",
       "<text text-anchor=\"middle\" x=\"468\" y=\"-750.8\" font-family=\"Times,serif\" font-size=\"14.00\" fill=\"#000000\">gini = 0.291</text>\n",
       "<text text-anchor=\"middle\" x=\"468\" y=\"-735.8\" font-family=\"Times,serif\" font-size=\"14.00\" fill=\"#000000\">samples = 17</text>\n",
       "<text text-anchor=\"middle\" x=\"468\" y=\"-720.8\" font-family=\"Times,serif\" font-size=\"14.00\" fill=\"#000000\">value = [14, 3]</text>\n",
       "</g>\n",
       "<!-- 0&#45;&gt;2 -->\n",
       "<g id=\"edge20\" class=\"edge\">\n",
       "<title>0&#45;&gt;2</title>\n",
       "<path fill=\"none\" stroke=\"#000000\" d=\"M418.9029,-816.9465C425.0791,-808.1475 431.8038,-798.5672 438.239,-789.3993\"/>\n",
       "<polygon fill=\"#000000\" stroke=\"#000000\" points=\"441.1629,-791.3258 444.0434,-781.13 435.4334,-787.3041 441.1629,-791.3258\"/>\n",
       "<text text-anchor=\"middle\" x=\"448.3563\" y=\"-802.0552\" font-family=\"Times,serif\" font-size=\"14.00\" fill=\"#000000\">False</text>\n",
       "</g>\n",
       "<!-- 3 -->\n",
       "<g id=\"node3\" class=\"node\">\n",
       "<title>3</title>\n",
       "<polygon fill=\"none\" stroke=\"#000000\" points=\"254,-677 148,-677 148,-609 254,-609 254,-677\"/>\n",
       "<text text-anchor=\"middle\" x=\"201\" y=\"-661.8\" font-family=\"Times,serif\" font-size=\"14.00\" fill=\"#000000\">High &lt;= &#45;1.295</text>\n",
       "<text text-anchor=\"middle\" x=\"201\" y=\"-646.8\" font-family=\"Times,serif\" font-size=\"14.00\" fill=\"#000000\">gini = 0.487</text>\n",
       "<text text-anchor=\"middle\" x=\"201\" y=\"-631.8\" font-family=\"Times,serif\" font-size=\"14.00\" fill=\"#000000\">samples = 43</text>\n",
       "<text text-anchor=\"middle\" x=\"201\" y=\"-616.8\" font-family=\"Times,serif\" font-size=\"14.00\" fill=\"#000000\">value = [25, 18]</text>\n",
       "</g>\n",
       "<!-- 1&#45;&gt;3 -->\n",
       "<g id=\"edge2\" class=\"edge\">\n",
       "<title>1&#45;&gt;3</title>\n",
       "<path fill=\"none\" stroke=\"#000000\" d=\"M282.3801,-712.9465C271.516,-703.6088 259.6282,-693.3911 248.3765,-683.7203\"/>\n",
       "<polygon fill=\"#000000\" stroke=\"#000000\" points=\"250.5741,-680.994 240.7089,-677.13 246.0113,-686.3026 250.5741,-680.994\"/>\n",
       "</g>\n",
       "<!-- 4 -->\n",
       "<g id=\"node20\" class=\"node\">\n",
       "<title>4</title>\n",
       "<polygon fill=\"none\" stroke=\"#000000\" points=\"371.5,-669.5 272.5,-669.5 272.5,-616.5 371.5,-616.5 371.5,-669.5\"/>\n",
       "<text text-anchor=\"middle\" x=\"322\" y=\"-654.3\" font-family=\"Times,serif\" font-size=\"14.00\" fill=\"#000000\">gini = 0.0</text>\n",
       "<text text-anchor=\"middle\" x=\"322\" y=\"-639.3\" font-family=\"Times,serif\" font-size=\"14.00\" fill=\"#000000\">samples = 10</text>\n",
       "<text text-anchor=\"middle\" x=\"322\" y=\"-624.3\" font-family=\"Times,serif\" font-size=\"14.00\" fill=\"#000000\">value = [0, 10]</text>\n",
       "</g>\n",
       "<!-- 1&#45;&gt;4 -->\n",
       "<g id=\"edge19\" class=\"edge\">\n",
       "<title>1&#45;&gt;4</title>\n",
       "<path fill=\"none\" stroke=\"#000000\" d=\"M322,-712.9465C322,-702.2621 322,-690.4254 322,-679.5742\"/>\n",
       "<polygon fill=\"#000000\" stroke=\"#000000\" points=\"325.5001,-679.5421 322,-669.5422 318.5001,-679.5422 325.5001,-679.5421\"/>\n",
       "</g>\n",
       "<!-- 5 -->\n",
       "<g id=\"node4\" class=\"node\">\n",
       "<title>5</title>\n",
       "<polygon fill=\"none\" stroke=\"#000000\" points=\"201.5,-573 100.5,-573 100.5,-505 201.5,-505 201.5,-573\"/>\n",
       "<text text-anchor=\"middle\" x=\"151\" y=\"-557.8\" font-family=\"Times,serif\" font-size=\"14.00\" fill=\"#000000\">Low &lt;= &#45;1.656</text>\n",
       "<text text-anchor=\"middle\" x=\"151\" y=\"-542.8\" font-family=\"Times,serif\" font-size=\"14.00\" fill=\"#000000\">gini = 0.32</text>\n",
       "<text text-anchor=\"middle\" x=\"151\" y=\"-527.8\" font-family=\"Times,serif\" font-size=\"14.00\" fill=\"#000000\">samples = 10</text>\n",
       "<text text-anchor=\"middle\" x=\"151\" y=\"-512.8\" font-family=\"Times,serif\" font-size=\"14.00\" fill=\"#000000\">value = [2, 8]</text>\n",
       "</g>\n",
       "<!-- 3&#45;&gt;5 -->\n",
       "<g id=\"edge3\" class=\"edge\">\n",
       "<title>3&#45;&gt;5</title>\n",
       "<path fill=\"none\" stroke=\"#000000\" d=\"M184.6281,-608.9465C180.5274,-600.4169 176.0736,-591.153 171.7896,-582.2424\"/>\n",
       "<polygon fill=\"#000000\" stroke=\"#000000\" points=\"174.896,-580.626 167.4087,-573.13 168.5873,-583.6591 174.896,-580.626\"/>\n",
       "</g>\n",
       "<!-- 6 -->\n",
       "<g id=\"node7\" class=\"node\">\n",
       "<title>6</title>\n",
       "<polygon fill=\"none\" stroke=\"#000000\" points=\"340.5,-573 219.5,-573 219.5,-505 340.5,-505 340.5,-573\"/>\n",
       "<text text-anchor=\"middle\" x=\"280\" y=\"-557.8\" font-family=\"Times,serif\" font-size=\"14.00\" fill=\"#000000\">Volume &lt;= &#45;0.974</text>\n",
       "<text text-anchor=\"middle\" x=\"280\" y=\"-542.8\" font-family=\"Times,serif\" font-size=\"14.00\" fill=\"#000000\">gini = 0.422</text>\n",
       "<text text-anchor=\"middle\" x=\"280\" y=\"-527.8\" font-family=\"Times,serif\" font-size=\"14.00\" fill=\"#000000\">samples = 33</text>\n",
       "<text text-anchor=\"middle\" x=\"280\" y=\"-512.8\" font-family=\"Times,serif\" font-size=\"14.00\" fill=\"#000000\">value = [23, 10]</text>\n",
       "</g>\n",
       "<!-- 3&#45;&gt;6 -->\n",
       "<g id=\"edge6\" class=\"edge\">\n",
       "<title>3&#45;&gt;6</title>\n",
       "<path fill=\"none\" stroke=\"#000000\" d=\"M226.8676,-608.9465C233.6196,-600.0578 240.9774,-590.3716 248.0059,-581.1188\"/>\n",
       "<polygon fill=\"#000000\" stroke=\"#000000\" points=\"250.8125,-583.2102 254.0743,-573.13 245.2383,-578.976 250.8125,-583.2102\"/>\n",
       "</g>\n",
       "<!-- 7 -->\n",
       "<g id=\"node5\" class=\"node\">\n",
       "<title>7</title>\n",
       "<polygon fill=\"none\" stroke=\"#000000\" points=\"92,-461.5 0,-461.5 0,-408.5 92,-408.5 92,-461.5\"/>\n",
       "<text text-anchor=\"middle\" x=\"46\" y=\"-446.3\" font-family=\"Times,serif\" font-size=\"14.00\" fill=\"#000000\">gini = 0.0</text>\n",
       "<text text-anchor=\"middle\" x=\"46\" y=\"-431.3\" font-family=\"Times,serif\" font-size=\"14.00\" fill=\"#000000\">samples = 2</text>\n",
       "<text text-anchor=\"middle\" x=\"46\" y=\"-416.3\" font-family=\"Times,serif\" font-size=\"14.00\" fill=\"#000000\">value = [2, 0]</text>\n",
       "</g>\n",
       "<!-- 5&#45;&gt;7 -->\n",
       "<g id=\"edge4\" class=\"edge\">\n",
       "<title>5&#45;&gt;7</title>\n",
       "<path fill=\"none\" stroke=\"#000000\" d=\"M116.6191,-504.9465C104.831,-493.2707 91.6538,-480.219 79.9038,-468.5809\"/>\n",
       "<polygon fill=\"#000000\" stroke=\"#000000\" points=\"82.3652,-466.0927 72.7974,-461.5422 77.4392,-471.066 82.3652,-466.0927\"/>\n",
       "</g>\n",
       "<!-- 8 -->\n",
       "<g id=\"node6\" class=\"node\">\n",
       "<title>8</title>\n",
       "<polygon fill=\"none\" stroke=\"#000000\" points=\"202,-461.5 110,-461.5 110,-408.5 202,-408.5 202,-461.5\"/>\n",
       "<text text-anchor=\"middle\" x=\"156\" y=\"-446.3\" font-family=\"Times,serif\" font-size=\"14.00\" fill=\"#000000\">gini = 0.0</text>\n",
       "<text text-anchor=\"middle\" x=\"156\" y=\"-431.3\" font-family=\"Times,serif\" font-size=\"14.00\" fill=\"#000000\">samples = 8</text>\n",
       "<text text-anchor=\"middle\" x=\"156\" y=\"-416.3\" font-family=\"Times,serif\" font-size=\"14.00\" fill=\"#000000\">value = [0, 8]</text>\n",
       "</g>\n",
       "<!-- 5&#45;&gt;8 -->\n",
       "<g id=\"edge5\" class=\"edge\">\n",
       "<title>5&#45;&gt;8</title>\n",
       "<path fill=\"none\" stroke=\"#000000\" d=\"M152.6372,-504.9465C153.1509,-494.2621 153.7199,-482.4254 154.2416,-471.5742\"/>\n",
       "<polygon fill=\"#000000\" stroke=\"#000000\" points=\"157.7396,-471.6987 154.7239,-461.5422 150.7477,-471.3625 157.7396,-471.6987\"/>\n",
       "</g>\n",
       "<!-- 9 -->\n",
       "<g id=\"node8\" class=\"node\">\n",
       "<title>9</title>\n",
       "<polygon fill=\"none\" stroke=\"#000000\" points=\"321,-461.5 229,-461.5 229,-408.5 321,-408.5 321,-461.5\"/>\n",
       "<text text-anchor=\"middle\" x=\"275\" y=\"-446.3\" font-family=\"Times,serif\" font-size=\"14.00\" fill=\"#000000\">gini = 0.0</text>\n",
       "<text text-anchor=\"middle\" x=\"275\" y=\"-431.3\" font-family=\"Times,serif\" font-size=\"14.00\" fill=\"#000000\">samples = 8</text>\n",
       "<text text-anchor=\"middle\" x=\"275\" y=\"-416.3\" font-family=\"Times,serif\" font-size=\"14.00\" fill=\"#000000\">value = [8, 0]</text>\n",
       "</g>\n",
       "<!-- 6&#45;&gt;9 -->\n",
       "<g id=\"edge7\" class=\"edge\">\n",
       "<title>6&#45;&gt;9</title>\n",
       "<path fill=\"none\" stroke=\"#000000\" d=\"M278.3628,-504.9465C277.8491,-494.2621 277.2801,-482.4254 276.7584,-471.5742\"/>\n",
       "<polygon fill=\"#000000\" stroke=\"#000000\" points=\"280.2523,-471.3625 276.2761,-461.5422 273.2604,-471.6987 280.2523,-471.3625\"/>\n",
       "</g>\n",
       "<!-- 10 -->\n",
       "<g id=\"node9\" class=\"node\">\n",
       "<title>10</title>\n",
       "<polygon fill=\"none\" stroke=\"#000000\" points=\"445,-469 339,-469 339,-401 445,-401 445,-469\"/>\n",
       "<text text-anchor=\"middle\" x=\"392\" y=\"-453.8\" font-family=\"Times,serif\" font-size=\"14.00\" fill=\"#000000\">High &lt;= &#45;0.677</text>\n",
       "<text text-anchor=\"middle\" x=\"392\" y=\"-438.8\" font-family=\"Times,serif\" font-size=\"14.00\" fill=\"#000000\">gini = 0.48</text>\n",
       "<text text-anchor=\"middle\" x=\"392\" y=\"-423.8\" font-family=\"Times,serif\" font-size=\"14.00\" fill=\"#000000\">samples = 25</text>\n",
       "<text text-anchor=\"middle\" x=\"392\" y=\"-408.8\" font-family=\"Times,serif\" font-size=\"14.00\" fill=\"#000000\">value = [15, 10]</text>\n",
       "</g>\n",
       "<!-- 6&#45;&gt;10 -->\n",
       "<g id=\"edge8\" class=\"edge\">\n",
       "<title>6&#45;&gt;10</title>\n",
       "<path fill=\"none\" stroke=\"#000000\" d=\"M316.673,-504.9465C326.6323,-495.6986 337.5211,-485.5876 347.8468,-475.9994\"/>\n",
       "<polygon fill=\"#000000\" stroke=\"#000000\" points=\"350.2982,-478.4993 355.2446,-469.13 345.5351,-473.3698 350.2982,-478.4993\"/>\n",
       "</g>\n",
       "<!-- 11 -->\n",
       "<g id=\"node10\" class=\"node\">\n",
       "<title>11</title>\n",
       "<polygon fill=\"none\" stroke=\"#000000\" points=\"366,-357.5 274,-357.5 274,-304.5 366,-304.5 366,-357.5\"/>\n",
       "<text text-anchor=\"middle\" x=\"320\" y=\"-342.3\" font-family=\"Times,serif\" font-size=\"14.00\" fill=\"#000000\">gini = 0.0</text>\n",
       "<text text-anchor=\"middle\" x=\"320\" y=\"-327.3\" font-family=\"Times,serif\" font-size=\"14.00\" fill=\"#000000\">samples = 5</text>\n",
       "<text text-anchor=\"middle\" x=\"320\" y=\"-312.3\" font-family=\"Times,serif\" font-size=\"14.00\" fill=\"#000000\">value = [0, 5]</text>\n",
       "</g>\n",
       "<!-- 10&#45;&gt;11 -->\n",
       "<g id=\"edge9\" class=\"edge\">\n",
       "<title>10&#45;&gt;11</title>\n",
       "<path fill=\"none\" stroke=\"#000000\" d=\"M368.4245,-400.9465C360.6463,-389.7113 351.9861,-377.2021 344.1645,-365.9043\"/>\n",
       "<polygon fill=\"#000000\" stroke=\"#000000\" points=\"346.9452,-363.7719 338.3753,-357.5422 341.1898,-367.7564 346.9452,-363.7719\"/>\n",
       "</g>\n",
       "<!-- 12 -->\n",
       "<g id=\"node11\" class=\"node\">\n",
       "<title>12</title>\n",
       "<polygon fill=\"none\" stroke=\"#000000\" points=\"541.5,-365 384.5,-365 384.5,-297 541.5,-297 541.5,-365\"/>\n",
       "<text text-anchor=\"middle\" x=\"463\" y=\"-349.8\" font-family=\"Times,serif\" font-size=\"14.00\" fill=\"#000000\">Close_Change &lt;= &#45;0.227</text>\n",
       "<text text-anchor=\"middle\" x=\"463\" y=\"-334.8\" font-family=\"Times,serif\" font-size=\"14.00\" fill=\"#000000\">gini = 0.375</text>\n",
       "<text text-anchor=\"middle\" x=\"463\" y=\"-319.8\" font-family=\"Times,serif\" font-size=\"14.00\" fill=\"#000000\">samples = 20</text>\n",
       "<text text-anchor=\"middle\" x=\"463\" y=\"-304.8\" font-family=\"Times,serif\" font-size=\"14.00\" fill=\"#000000\">value = [15, 5]</text>\n",
       "</g>\n",
       "<!-- 10&#45;&gt;12 -->\n",
       "<g id=\"edge10\" class=\"edge\">\n",
       "<title>10&#45;&gt;12</title>\n",
       "<path fill=\"none\" stroke=\"#000000\" d=\"M415.2481,-400.9465C421.255,-392.1475 427.7955,-382.5672 434.0543,-373.3993\"/>\n",
       "<polygon fill=\"#000000\" stroke=\"#000000\" points=\"436.952,-375.3623 439.6997,-365.13 431.1707,-371.4155 436.952,-375.3623\"/>\n",
       "</g>\n",
       "<!-- 13 -->\n",
       "<g id=\"node12\" class=\"node\">\n",
       "<title>13</title>\n",
       "<polygon fill=\"none\" stroke=\"#000000\" points=\"456.5,-261 353.5,-261 353.5,-193 456.5,-193 456.5,-261\"/>\n",
       "<text text-anchor=\"middle\" x=\"405\" y=\"-245.8\" font-family=\"Times,serif\" font-size=\"14.00\" fill=\"#000000\">High &lt;= &#45;0.084</text>\n",
       "<text text-anchor=\"middle\" x=\"405\" y=\"-230.8\" font-family=\"Times,serif\" font-size=\"14.00\" fill=\"#000000\">gini = 0.496</text>\n",
       "<text text-anchor=\"middle\" x=\"405\" y=\"-215.8\" font-family=\"Times,serif\" font-size=\"14.00\" fill=\"#000000\">samples = 11</text>\n",
       "<text text-anchor=\"middle\" x=\"405\" y=\"-200.8\" font-family=\"Times,serif\" font-size=\"14.00\" fill=\"#000000\">value = [6, 5]</text>\n",
       "</g>\n",
       "<!-- 12&#45;&gt;13 -->\n",
       "<g id=\"edge11\" class=\"edge\">\n",
       "<title>12&#45;&gt;13</title>\n",
       "<path fill=\"none\" stroke=\"#000000\" d=\"M444.0086,-296.9465C439.2017,-288.3271 433.9765,-278.9579 428.9591,-269.9611\"/>\n",
       "<polygon fill=\"#000000\" stroke=\"#000000\" points=\"431.9615,-268.1589 424.034,-261.13 425.848,-271.5684 431.9615,-268.1589\"/>\n",
       "</g>\n",
       "<!-- 14 -->\n",
       "<g id=\"node19\" class=\"node\">\n",
       "<title>14</title>\n",
       "<polygon fill=\"none\" stroke=\"#000000\" points=\"567,-253.5 475,-253.5 475,-200.5 567,-200.5 567,-253.5\"/>\n",
       "<text text-anchor=\"middle\" x=\"521\" y=\"-238.3\" font-family=\"Times,serif\" font-size=\"14.00\" fill=\"#000000\">gini = 0.0</text>\n",
       "<text text-anchor=\"middle\" x=\"521\" y=\"-223.3\" font-family=\"Times,serif\" font-size=\"14.00\" fill=\"#000000\">samples = 9</text>\n",
       "<text text-anchor=\"middle\" x=\"521\" y=\"-208.3\" font-family=\"Times,serif\" font-size=\"14.00\" fill=\"#000000\">value = [9, 0]</text>\n",
       "</g>\n",
       "<!-- 12&#45;&gt;14 -->\n",
       "<g id=\"edge18\" class=\"edge\">\n",
       "<title>12&#45;&gt;14</title>\n",
       "<path fill=\"none\" stroke=\"#000000\" d=\"M481.9914,-296.9465C488.1343,-285.9316 494.9601,-273.6922 501.1627,-262.5703\"/>\n",
       "<polygon fill=\"#000000\" stroke=\"#000000\" points=\"504.3837,-263.9806 506.1976,-253.5422 498.2701,-260.5711 504.3837,-263.9806\"/>\n",
       "</g>\n",
       "<!-- 15 -->\n",
       "<g id=\"node13\" class=\"node\">\n",
       "<title>15</title>\n",
       "<polygon fill=\"none\" stroke=\"#000000\" points=\"380,-157 286,-157 286,-89 380,-89 380,-157\"/>\n",
       "<text text-anchor=\"middle\" x=\"333\" y=\"-141.8\" font-family=\"Times,serif\" font-size=\"14.00\" fill=\"#000000\">Low &lt;= &#45;0.56</text>\n",
       "<text text-anchor=\"middle\" x=\"333\" y=\"-126.8\" font-family=\"Times,serif\" font-size=\"14.00\" fill=\"#000000\">gini = 0.32</text>\n",
       "<text text-anchor=\"middle\" x=\"333\" y=\"-111.8\" font-family=\"Times,serif\" font-size=\"14.00\" fill=\"#000000\">samples = 5</text>\n",
       "<text text-anchor=\"middle\" x=\"333\" y=\"-96.8\" font-family=\"Times,serif\" font-size=\"14.00\" fill=\"#000000\">value = [1, 4]</text>\n",
       "</g>\n",
       "<!-- 13&#45;&gt;15 -->\n",
       "<g id=\"edge12\" class=\"edge\">\n",
       "<title>13&#45;&gt;15</title>\n",
       "<path fill=\"none\" stroke=\"#000000\" d=\"M381.4245,-192.9465C375.3329,-184.1475 368.7004,-174.5672 362.3534,-165.3993\"/>\n",
       "<polygon fill=\"#000000\" stroke=\"#000000\" points=\"365.1983,-163.3597 356.6285,-157.13 359.4429,-167.3442 365.1983,-163.3597\"/>\n",
       "</g>\n",
       "<!-- 16 -->\n",
       "<g id=\"node16\" class=\"node\">\n",
       "<title>16</title>\n",
       "<polygon fill=\"none\" stroke=\"#000000\" points=\"555.5,-157 398.5,-157 398.5,-89 555.5,-89 555.5,-157\"/>\n",
       "<text text-anchor=\"middle\" x=\"477\" y=\"-141.8\" font-family=\"Times,serif\" font-size=\"14.00\" fill=\"#000000\">Close_Change &lt;= &#45;0.342</text>\n",
       "<text text-anchor=\"middle\" x=\"477\" y=\"-126.8\" font-family=\"Times,serif\" font-size=\"14.00\" fill=\"#000000\">gini = 0.278</text>\n",
       "<text text-anchor=\"middle\" x=\"477\" y=\"-111.8\" font-family=\"Times,serif\" font-size=\"14.00\" fill=\"#000000\">samples = 6</text>\n",
       "<text text-anchor=\"middle\" x=\"477\" y=\"-96.8\" font-family=\"Times,serif\" font-size=\"14.00\" fill=\"#000000\">value = [5, 1]</text>\n",
       "</g>\n",
       "<!-- 13&#45;&gt;16 -->\n",
       "<g id=\"edge15\" class=\"edge\">\n",
       "<title>13&#45;&gt;16</title>\n",
       "<path fill=\"none\" stroke=\"#000000\" d=\"M428.5755,-192.9465C434.6671,-184.1475 441.2996,-174.5672 447.6466,-165.3993\"/>\n",
       "<polygon fill=\"#000000\" stroke=\"#000000\" points=\"450.5571,-167.3442 453.3715,-157.13 444.8017,-163.3597 450.5571,-167.3442\"/>\n",
       "</g>\n",
       "<!-- 23 -->\n",
       "<g id=\"node14\" class=\"node\">\n",
       "<title>23</title>\n",
       "<polygon fill=\"none\" stroke=\"#000000\" points=\"278,-53 186,-53 186,0 278,0 278,-53\"/>\n",
       "<text text-anchor=\"middle\" x=\"232\" y=\"-37.8\" font-family=\"Times,serif\" font-size=\"14.00\" fill=\"#000000\">gini = 0.0</text>\n",
       "<text text-anchor=\"middle\" x=\"232\" y=\"-22.8\" font-family=\"Times,serif\" font-size=\"14.00\" fill=\"#000000\">samples = 1</text>\n",
       "<text text-anchor=\"middle\" x=\"232\" y=\"-7.8\" font-family=\"Times,serif\" font-size=\"14.00\" fill=\"#000000\">value = [1, 0]</text>\n",
       "</g>\n",
       "<!-- 15&#45;&gt;23 -->\n",
       "<g id=\"edge13\" class=\"edge\">\n",
       "<title>15&#45;&gt;23</title>\n",
       "<path fill=\"none\" stroke=\"#000000\" d=\"M297.3912,-88.9777C287.6155,-79.6376 277.0223,-69.5163 267.266,-60.1947\"/>\n",
       "<polygon fill=\"#000000\" stroke=\"#000000\" points=\"269.644,-57.6261 259.9958,-53.2485 264.8083,-62.6873 269.644,-57.6261\"/>\n",
       "</g>\n",
       "<!-- 24 -->\n",
       "<g id=\"node15\" class=\"node\">\n",
       "<title>24</title>\n",
       "<polygon fill=\"none\" stroke=\"#000000\" points=\"388,-53 296,-53 296,0 388,0 388,-53\"/>\n",
       "<text text-anchor=\"middle\" x=\"342\" y=\"-37.8\" font-family=\"Times,serif\" font-size=\"14.00\" fill=\"#000000\">gini = 0.0</text>\n",
       "<text text-anchor=\"middle\" x=\"342\" y=\"-22.8\" font-family=\"Times,serif\" font-size=\"14.00\" fill=\"#000000\">samples = 4</text>\n",
       "<text text-anchor=\"middle\" x=\"342\" y=\"-7.8\" font-family=\"Times,serif\" font-size=\"14.00\" fill=\"#000000\">value = [0, 4]</text>\n",
       "</g>\n",
       "<!-- 15&#45;&gt;24 -->\n",
       "<g id=\"edge14\" class=\"edge\">\n",
       "<title>15&#45;&gt;24</title>\n",
       "<path fill=\"none\" stroke=\"#000000\" d=\"M336.1731,-88.9777C336.9502,-80.6449 337.7854,-71.6903 338.5738,-63.2364\"/>\n",
       "<polygon fill=\"#000000\" stroke=\"#000000\" points=\"342.0615,-63.5303 339.5053,-53.2485 335.0917,-62.8802 342.0615,-63.5303\"/>\n",
       "</g>\n",
       "<!-- 21 -->\n",
       "<g id=\"node17\" class=\"node\">\n",
       "<title>21</title>\n",
       "<polygon fill=\"none\" stroke=\"#000000\" points=\"515,-53 423,-53 423,0 515,0 515,-53\"/>\n",
       "<text text-anchor=\"middle\" x=\"469\" y=\"-37.8\" font-family=\"Times,serif\" font-size=\"14.00\" fill=\"#000000\">gini = 0.0</text>\n",
       "<text text-anchor=\"middle\" x=\"469\" y=\"-22.8\" font-family=\"Times,serif\" font-size=\"14.00\" fill=\"#000000\">samples = 5</text>\n",
       "<text text-anchor=\"middle\" x=\"469\" y=\"-7.8\" font-family=\"Times,serif\" font-size=\"14.00\" fill=\"#000000\">value = [5, 0]</text>\n",
       "</g>\n",
       "<!-- 16&#45;&gt;21 -->\n",
       "<g id=\"edge16\" class=\"edge\">\n",
       "<title>16&#45;&gt;21</title>\n",
       "<path fill=\"none\" stroke=\"#000000\" d=\"M474.1795,-88.9777C473.4887,-80.6449 472.7463,-71.6903 472.0455,-63.2364\"/>\n",
       "<polygon fill=\"#000000\" stroke=\"#000000\" points=\"475.5318,-62.9251 471.2175,-53.2485 468.5557,-63.5035 475.5318,-62.9251\"/>\n",
       "</g>\n",
       "<!-- 22 -->\n",
       "<g id=\"node18\" class=\"node\">\n",
       "<title>22</title>\n",
       "<polygon fill=\"none\" stroke=\"#000000\" points=\"625,-53 533,-53 533,0 625,0 625,-53\"/>\n",
       "<text text-anchor=\"middle\" x=\"579\" y=\"-37.8\" font-family=\"Times,serif\" font-size=\"14.00\" fill=\"#000000\">gini = 0.0</text>\n",
       "<text text-anchor=\"middle\" x=\"579\" y=\"-22.8\" font-family=\"Times,serif\" font-size=\"14.00\" fill=\"#000000\">samples = 1</text>\n",
       "<text text-anchor=\"middle\" x=\"579\" y=\"-7.8\" font-family=\"Times,serif\" font-size=\"14.00\" fill=\"#000000\">value = [0, 1]</text>\n",
       "</g>\n",
       "<!-- 16&#45;&gt;22 -->\n",
       "<g id=\"edge17\" class=\"edge\">\n",
       "<title>16&#45;&gt;22</title>\n",
       "<path fill=\"none\" stroke=\"#000000\" d=\"M512.9614,-88.9777C522.8338,-79.6376 533.532,-69.5163 543.3849,-60.1947\"/>\n",
       "<polygon fill=\"#000000\" stroke=\"#000000\" points=\"545.8682,-62.6635 550.727,-53.2485 541.0574,-57.5785 545.8682,-62.6635\"/>\n",
       "</g>\n",
       "<!-- 17 -->\n",
       "<g id=\"node22\" class=\"node\">\n",
       "<title>17</title>\n",
       "<polygon fill=\"none\" stroke=\"#000000\" points=\"546.5,-677 389.5,-677 389.5,-609 546.5,-609 546.5,-677\"/>\n",
       "<text text-anchor=\"middle\" x=\"468\" y=\"-661.8\" font-family=\"Times,serif\" font-size=\"14.00\" fill=\"#000000\">Close_Change &lt;= &#45;1.438</text>\n",
       "<text text-anchor=\"middle\" x=\"468\" y=\"-646.8\" font-family=\"Times,serif\" font-size=\"14.00\" fill=\"#000000\">gini = 0.133</text>\n",
       "<text text-anchor=\"middle\" x=\"468\" y=\"-631.8\" font-family=\"Times,serif\" font-size=\"14.00\" fill=\"#000000\">samples = 14</text>\n",
       "<text text-anchor=\"middle\" x=\"468\" y=\"-616.8\" font-family=\"Times,serif\" font-size=\"14.00\" fill=\"#000000\">value = [13, 1]</text>\n",
       "</g>\n",
       "<!-- 2&#45;&gt;17 -->\n",
       "<g id=\"edge21\" class=\"edge\">\n",
       "<title>2&#45;&gt;17</title>\n",
       "<path fill=\"none\" stroke=\"#000000\" d=\"M468,-712.9465C468,-704.776 468,-695.9318 468,-687.3697\"/>\n",
       "<polygon fill=\"#000000\" stroke=\"#000000\" points=\"471.5001,-687.13 468,-677.13 464.5001,-687.13 471.5001,-687.13\"/>\n",
       "</g>\n",
       "<!-- 18 -->\n",
       "<g id=\"node25\" class=\"node\">\n",
       "<title>18</title>\n",
       "<polygon fill=\"none\" stroke=\"#000000\" points=\"657,-669.5 565,-669.5 565,-616.5 657,-616.5 657,-669.5\"/>\n",
       "<text text-anchor=\"middle\" x=\"611\" y=\"-654.3\" font-family=\"Times,serif\" font-size=\"14.00\" fill=\"#000000\">gini = 0.444</text>\n",
       "<text text-anchor=\"middle\" x=\"611\" y=\"-639.3\" font-family=\"Times,serif\" font-size=\"14.00\" fill=\"#000000\">samples = 3</text>\n",
       "<text text-anchor=\"middle\" x=\"611\" y=\"-624.3\" font-family=\"Times,serif\" font-size=\"14.00\" fill=\"#000000\">value = [1, 2]</text>\n",
       "</g>\n",
       "<!-- 2&#45;&gt;18 -->\n",
       "<g id=\"edge24\" class=\"edge\">\n",
       "<title>2&#45;&gt;18</title>\n",
       "<path fill=\"none\" stroke=\"#000000\" d=\"M514.8235,-712.9465C531.3321,-700.9403 549.8412,-687.4791 566.1802,-675.5962\"/>\n",
       "<polygon fill=\"#000000\" stroke=\"#000000\" points=\"568.4758,-678.2545 574.5045,-669.5422 564.3585,-672.5933 568.4758,-678.2545\"/>\n",
       "</g>\n",
       "<!-- 19 -->\n",
       "<g id=\"node23\" class=\"node\">\n",
       "<title>19</title>\n",
       "<polygon fill=\"none\" stroke=\"#000000\" points=\"482,-565.5 390,-565.5 390,-512.5 482,-512.5 482,-565.5\"/>\n",
       "<text text-anchor=\"middle\" x=\"436\" y=\"-550.3\" font-family=\"Times,serif\" font-size=\"14.00\" fill=\"#000000\">gini = 0.0</text>\n",
       "<text text-anchor=\"middle\" x=\"436\" y=\"-535.3\" font-family=\"Times,serif\" font-size=\"14.00\" fill=\"#000000\">samples = 1</text>\n",
       "<text text-anchor=\"middle\" x=\"436\" y=\"-520.3\" font-family=\"Times,serif\" font-size=\"14.00\" fill=\"#000000\">value = [0, 1]</text>\n",
       "</g>\n",
       "<!-- 17&#45;&gt;19 -->\n",
       "<g id=\"edge22\" class=\"edge\">\n",
       "<title>17&#45;&gt;19</title>\n",
       "<path fill=\"none\" stroke=\"#000000\" d=\"M457.522,-608.9465C454.2006,-598.1519 450.5173,-586.1813 447.1504,-575.2389\"/>\n",
       "<polygon fill=\"#000000\" stroke=\"#000000\" points=\"450.453,-574.0706 444.1668,-565.5422 443.7625,-576.1293 450.453,-574.0706\"/>\n",
       "</g>\n",
       "<!-- 20 -->\n",
       "<g id=\"node24\" class=\"node\">\n",
       "<title>20</title>\n",
       "<polygon fill=\"none\" stroke=\"#000000\" points=\"599.5,-565.5 500.5,-565.5 500.5,-512.5 599.5,-512.5 599.5,-565.5\"/>\n",
       "<text text-anchor=\"middle\" x=\"550\" y=\"-550.3\" font-family=\"Times,serif\" font-size=\"14.00\" fill=\"#000000\">gini = 0.0</text>\n",
       "<text text-anchor=\"middle\" x=\"550\" y=\"-535.3\" font-family=\"Times,serif\" font-size=\"14.00\" fill=\"#000000\">samples = 13</text>\n",
       "<text text-anchor=\"middle\" x=\"550\" y=\"-520.3\" font-family=\"Times,serif\" font-size=\"14.00\" fill=\"#000000\">value = [13, 0]</text>\n",
       "</g>\n",
       "<!-- 17&#45;&gt;20 -->\n",
       "<g id=\"edge23\" class=\"edge\">\n",
       "<title>17&#45;&gt;20</title>\n",
       "<path fill=\"none\" stroke=\"#000000\" d=\"M494.8499,-608.9465C503.7952,-597.6012 513.7649,-584.9567 522.741,-573.5724\"/>\n",
       "<polygon fill=\"#000000\" stroke=\"#000000\" points=\"525.6294,-575.5619 529.0725,-565.5422 520.1325,-571.2278 525.6294,-575.5619\"/>\n",
       "</g>\n",
       "</g>\n",
       "</svg>\n"
      ],
      "text/plain": [
       "<graphviz.files.Source at 0x7ff6e3e99310>"
      ]
     },
     "execution_count": 27,
     "metadata": {},
     "output_type": "execute_result"
    }
   ],
   "source": [
    "import graphviz\n",
    "graphviz.Source(best_tree_dot)"
   ]
  },
  {
   "cell_type": "markdown",
   "id": "00856d45",
   "metadata": {},
   "source": [
    "### Get some metrics on the Decision Tree Model"
   ]
  },
  {
   "cell_type": "code",
   "execution_count": 28,
   "id": "9cebe727",
   "metadata": {},
   "outputs": [
    {
     "data": {
      "text/plain": [
       "array([[11,  7],\n",
       "       [ 4,  8]])"
      ]
     },
     "execution_count": 28,
     "metadata": {},
     "output_type": "execute_result"
    }
   ],
   "source": [
    "y_grid_predict = grid.predict(X_test)\n",
    "from sklearn.metrics import confusion_matrix\n",
    "\n",
    "confusion_matrix(y_test, y_grid_predict)"
   ]
  },
  {
   "cell_type": "code",
   "execution_count": 29,
   "id": "370e4540",
   "metadata": {},
   "outputs": [
    {
     "name": "stdout",
     "output_type": "stream",
     "text": [
      "              precision    recall  f1-score   support\n",
      "\n",
      "           0       0.73      0.61      0.67        18\n",
      "           1       0.53      0.67      0.59        12\n",
      "\n",
      "    accuracy                           0.63        30\n",
      "   macro avg       0.63      0.64      0.63        30\n",
      "weighted avg       0.65      0.63      0.64        30\n",
      "\n"
     ]
    }
   ],
   "source": [
    "from sklearn.metrics import classification_report\n",
    "print(classification_report(y_test, y_grid_predict))"
   ]
  },
  {
   "cell_type": "code",
   "execution_count": 30,
   "id": "4c23959d",
   "metadata": {},
   "outputs": [],
   "source": [
    "y_grid_prob = grid.predict_proba(X_test)[:,1]\n",
    "\n",
    "from sklearn.metrics import roc_curve\n",
    "\n",
    "fpr, tpr, threshold = roc_curve(y_test, y_grid_prob)"
   ]
  },
  {
   "cell_type": "code",
   "execution_count": 31,
   "id": "0aaa7ca9",
   "metadata": {},
   "outputs": [
    {
     "data": {
      "text/plain": [
       "Text(0.5, 1.0, 'Decision Tree ROC Curve')"
      ]
     },
     "execution_count": 31,
     "metadata": {},
     "output_type": "execute_result"
    },
    {
     "data": {
      "image/png": "[encoded data removed]",
      "text/plain": [
       "<Figure size 1440x720 with 1 Axes>"
      ]
     },
     "metadata": {},
     "output_type": "display_data"
    }
   ],
   "source": [
    "plt.plot(fpr, tpr, label = 'Decision Tree ROC Curve')\n",
    "\n",
    "plt.xlabel('False Positive Rate')\n",
    "plt.ylabel('True Positive Rate')\n",
    "plt.title('Decision Tree ROC Curve')"
   ]
  },
  {
   "cell_type": "markdown",
   "id": "346eb79b",
   "metadata": {},
   "source": [
    "# KNN Model"
   ]
  },
  {
   "cell_type": "code",
   "execution_count": 32,
   "id": "fab3b285",
   "metadata": {},
   "outputs": [
    {
     "data": {
      "text/plain": [
       "KNeighborsClassifier()"
      ]
     },
     "execution_count": 32,
     "metadata": {},
     "output_type": "execute_result"
    }
   ],
   "source": [
    "from sklearn.neighbors import KNeighborsClassifier\n",
    "knn = KNeighborsClassifier()\n",
    "knn.fit(X_train, y_train)"
   ]
  },
  {
   "cell_type": "code",
   "execution_count": 33,
   "id": "d0959aca",
   "metadata": {},
   "outputs": [
    {
     "data": {
      "text/plain": [
       "0.7"
      ]
     },
     "execution_count": 33,
     "metadata": {},
     "output_type": "execute_result"
    }
   ],
   "source": [
    "knn.score(X_test, y_test)"
   ]
  },
  {
   "cell_type": "markdown",
   "id": "ff5b37e3",
   "metadata": {},
   "source": [
    "##### Find best parameters for the model"
   ]
  },
  {
   "cell_type": "code",
   "execution_count": 34,
   "id": "e3d781d8",
   "metadata": {},
   "outputs": [],
   "source": [
    "from sklearn.model_selection import StratifiedKFold\n",
    "skfold = StratifiedKFold(n_splits=5, shuffle=True)"
   ]
  },
  {
   "cell_type": "code",
   "execution_count": 35,
   "id": "2a722ffe",
   "metadata": {},
   "outputs": [
    {
     "name": "stdout",
     "output_type": "stream",
     "text": [
      "best cross-validation score: 0.586\n",
      "best n_neighbors: 1\n"
     ]
    }
   ],
   "source": [
    "from sklearn.model_selection import cross_val_score\n",
    "\n",
    "neighbors = np.arange(1, 16, 2)\n",
    "cross_val_scores = []\n",
    "\n",
    "for i in neighbors:\n",
    "    knn = KNeighborsClassifier(n_neighbors = i)\n",
    "    scores = cross_val_score(knn, X_train, y_train, cv = skfold)\n",
    "    cross_val_scores.append(np.mean(scores))\n",
    "\n",
    "print(\"best cross-validation score: {:.3f}\".format(np.max(cross_val_scores)))\n",
    "best_n_neighbors = neighbors[np.argmax(cross_val_scores)]\n",
    "print(\"best n_neighbors: {}\".format(best_n_neighbors))"
   ]
  },
  {
   "cell_type": "code",
   "execution_count": 36,
   "id": "869c2f26",
   "metadata": {},
   "outputs": [
    {
     "data": {
      "text/plain": [
       "0.8"
      ]
     },
     "execution_count": 36,
     "metadata": {},
     "output_type": "execute_result"
    }
   ],
   "source": [
    "knn = KNeighborsClassifier(n_neighbors = best_n_neighbors)\n",
    "knn.fit(X_train, y_train)\n",
    "knn.score(X_test, y_test)"
   ]
  },
  {
   "cell_type": "markdown",
   "id": "cb8ce1cd",
   "metadata": {},
   "source": [
    "#### Metrics on the KNN Model"
   ]
  },
  {
   "cell_type": "code",
   "execution_count": 37,
   "id": "2a03aafa",
   "metadata": {},
   "outputs": [
    {
     "data": {
      "text/plain": [
       "array([[15,  3],\n",
       "       [ 3,  9]])"
      ]
     },
     "execution_count": 37,
     "metadata": {},
     "output_type": "execute_result"
    }
   ],
   "source": [
    "y_knn_predict = knn.predict(X_test)\n",
    "confusion_matrix(y_test, y_knn_predict)"
   ]
  },
  {
   "cell_type": "code",
   "execution_count": 38,
   "id": "3523722d",
   "metadata": {},
   "outputs": [
    {
     "name": "stdout",
     "output_type": "stream",
     "text": [
      "              precision    recall  f1-score   support\n",
      "\n",
      "           0       0.83      0.83      0.83        18\n",
      "           1       0.75      0.75      0.75        12\n",
      "\n",
      "    accuracy                           0.80        30\n",
      "   macro avg       0.79      0.79      0.79        30\n",
      "weighted avg       0.80      0.80      0.80        30\n",
      "\n"
     ]
    }
   ],
   "source": [
    "print(classification_report(y_test, y_knn_predict))"
   ]
  },
  {
   "cell_type": "code",
   "execution_count": 39,
   "id": "2c77d3a3",
   "metadata": {},
   "outputs": [],
   "source": [
    "y_knn_prob = knn.predict_proba(X_test)[:,1]\n",
    "fpr, tpr, threshold = roc_curve(y_test, y_knn_prob)"
   ]
  },
  {
   "cell_type": "code",
   "execution_count": 40,
   "id": "7940c647",
   "metadata": {},
   "outputs": [
    {
     "data": {
      "text/plain": [
       "Text(0.5, 1.0, 'KNN ROC Curve')"
      ]
     },
     "execution_count": 40,
     "metadata": {},
     "output_type": "execute_result"
    },
    {
     "data": {
      "image/png": "[encoded data removed]",
      "text/plain": [
       "<Figure size 1440x720 with 1 Axes>"
      ]
     },
     "metadata": {},
     "output_type": "display_data"
    }
   ],
   "source": [
    "plt.plot(fpr, tpr, label = 'KNN ROC Curve')\n",
    "\n",
    "plt.xlabel('False Positive Rate')\n",
    "plt.ylabel('True Positive Rate')\n",
    "plt.title('KNN ROC Curve')"
   ]
  },
  {
   "cell_type": "markdown",
   "id": "529e15bb",
   "metadata": {},
   "source": [
    "# Conclusions\n",
    "1. Knn Model Perfomed better than the Decision Tree model\n",
    "2. Both models are not too accurate"
   ]
  },
  {
   "cell_type": "code",
   "execution_count": 41,
   "id": "fb9a79ce",
   "metadata": {},
   "outputs": [],
   "source": [
    "from sklearn.linear_model import LogisticRegression\n",
    "reg = LogisticRegression()\n",
    "reg.fit(X_train, y_train)\n",
    "y_pred_lr = reg.predict(X_test)"
   ]
  },
  {
   "cell_type": "code",
   "execution_count": 42,
   "id": "bc080ea0",
   "metadata": {},
   "outputs": [
    {
     "data": {
      "text/plain": [
       "array([[18,  0],\n",
       "       [ 2, 10]])"
      ]
     },
     "execution_count": 42,
     "metadata": {},
     "output_type": "execute_result"
    }
   ],
   "source": [
    "confusion_matrix(y_test, y_pred_lr)"
   ]
  },
  {
   "cell_type": "code",
   "execution_count": 43,
   "id": "62afd9dc",
   "metadata": {},
   "outputs": [
    {
     "name": "stdout",
     "output_type": "stream",
     "text": [
      "              precision    recall  f1-score   support\n",
      "\n",
      "           0       0.90      1.00      0.95        18\n",
      "           1       1.00      0.83      0.91        12\n",
      "\n",
      "    accuracy                           0.93        30\n",
      "   macro avg       0.95      0.92      0.93        30\n",
      "weighted avg       0.94      0.93      0.93        30\n",
      "\n"
     ]
    }
   ],
   "source": [
    "print(classification_report(y_test, y_pred_lr))"
   ]
  },
  {
   "cell_type": "code",
   "execution_count": 44,
   "id": "c6a9e318",
   "metadata": {},
   "outputs": [],
   "source": [
    "y_pred_prob = reg.predict_proba(X_test)[:,1]\n",
    "\n",
    "from sklearn.metrics import roc_curve\n",
    "\n",
    "fpr, tpr, threshold = roc_curve(y_test, y_pred_prob)"
   ]
  },
  {
   "cell_type": "code",
   "execution_count": 45,
   "id": "b0cedf5a",
   "metadata": {},
   "outputs": [
    {
     "data": {
      "text/plain": [
       "0.9953703703703703"
      ]
     },
     "execution_count": 45,
     "metadata": {},
     "output_type": "execute_result"
    }
   ],
   "source": [
    "from sklearn.metrics import roc_auc_score\n",
    "roc_auc_score(y_test, y_pred_prob)"
   ]
  },
  {
   "cell_type": "code",
   "execution_count": 47,
   "id": "a398ea56",
   "metadata": {},
   "outputs": [
    {
     "data": {
      "text/plain": [
       "Text(0.5, 1.0, 'LR ROC Curve')"
      ]
     },
     "execution_count": 47,
     "metadata": {},
     "output_type": "execute_result"
    },
    {
     "data": {
      "image/png": "[encoded data removed]",
      "text/plain": [
       "<Figure size 1440x720 with 1 Axes>"
      ]
     },
     "metadata": {},
     "output_type": "display_data"
    }
   ],
   "source": [
    "plt.plot(fpr, tpr, label = 'Logistic Regression ROC Curve')\n",
    "\n",
    "plt.xlabel('False Positive Rate')\n",
    "plt.ylabel('True Positive Rate')\n",
    "plt.title('LR ROC Curve')"
   ]
  },
  {
   "cell_type": "code",
   "execution_count": null,
   "id": "d3ea6918",
   "metadata": {},
   "outputs": [],
   "source": []
  }
 ],
 "metadata": {
  "kernelspec": {
   "display_name": "Python 3 (ipykernel)",
   "language": "python",
   "name": "python3"
  },
  "language_info": {
   "codemirror_mode": {
    "name": "ipython",
    "version": 3
   },
   "file_extension": ".py",
   "mimetype": "text/x-python",
   "name": "python",
   "nbconvert_exporter": "python",
   "pygments_lexer": "ipython3",
   "version": "3.8.2"
  }
 },
 "nbformat": 4,
 "nbformat_minor": 5
}
